{
 "cells": [
  {
   "cell_type": "code",
   "execution_count": 28,
   "id": "peaceful-hampton",
   "metadata": {},
   "outputs": [],
   "source": [
    "import tensorflow as tf\n",
    "import numpy as np\n",
    "import pandas as pd\n",
    "from os import listdir\n",
    "from sklearn.model_selection import StratifiedShuffleSplit\n",
    "\n",
    "from src.ml.util import get_feature_desc, get_tf_sample"
   ]
  },
  {
   "cell_type": "markdown",
   "id": "placed-driver",
   "metadata": {},
   "source": [
    "### Reading all samples"
   ]
  },
  {
   "cell_type": "markdown",
   "id": "shared-manor",
   "metadata": {},
   "source": [
    "All samples are read from the `data` directory, to later on be split into a training and validation set. Each sample is the result of a self-played game, by splitting the dataset it is important to make sure they are balanced, in this case it means there is a representation of wins and losts scenarios. "
   ]
  },
  {
   "cell_type": "code",
   "execution_count": 29,
   "id": "vocational-recorder",
   "metadata": {},
   "outputs": [
    {
     "data": {
      "text/plain": [
       "['robot_reboot_data/validation.tfrecords', 'robot_reboot_data/train.tfrecords']"
      ]
     },
     "execution_count": 29,
     "metadata": {},
     "output_type": "execute_result"
    }
   ],
   "source": [
    "filenames = [f'robot_reboot_data/{f}' for f in listdir('robot_reboot_data/') if f.endswith('.tfrecords')]\n",
    "filenames"
   ]
  },
  {
   "cell_type": "markdown",
   "id": "present-charleston",
   "metadata": {},
   "source": [
    "Following the data will be read from the `tfrecords` files and parsed into a data frame to explore the outputs of each game and the complete data (i.e it includes the state `s`, outcome `v` and probabilities `p`) is temporarily store in a list `parsed_data` for later used"
   ]
  },
  {
   "cell_type": "code",
   "execution_count": 30,
   "id": "placed-spouse",
   "metadata": {},
   "outputs": [],
   "source": [
    "actions_cols = [f'a_{i}' for i in range(0, 16)]\n",
    "data_map = list()\n",
    "parsed_data = list()\n",
    "dataset = tf.data.TFRecordDataset(filenames)\n",
    "for serialized in dataset:\n",
    "    parsed = tf.io.parse_single_example(serialized, get_feature_desc())\n",
    "    \n",
    "    p = tf.sparse.to_dense(parsed['p']).numpy()\n",
    "    v = parsed['v'].numpy()\n",
    "    s = tf.sparse.to_dense(parsed['s']).numpy()\n",
    "    parsed_data.append({\n",
    "        'p': p,\n",
    "        'v': v,\n",
    "        's': s\n",
    "    })\n",
    "    obj = {\n",
    "        'v': v,\n",
    "    }\n",
    "\n",
    "    for j in range(len(actions_cols)):\n",
    "        col = actions_cols[j]\n",
    "        p_j = p[j]\n",
    "        obj[col] = p_j\n",
    "    data_map.append(obj)"
   ]
  },
  {
   "cell_type": "markdown",
   "id": "seventh-dressing",
   "metadata": {},
   "source": [
    "`data_df` depicts the outcome of each game in `v` (`1` for a win and `0` for a loss) and the probability of winning for each action. The state of the game is not needed for now. "
   ]
  },
  {
   "cell_type": "code",
   "execution_count": 31,
   "id": "furnished-television",
   "metadata": {},
   "outputs": [
    {
     "data": {
      "text/html": [
       "<div>\n",
       "<style scoped>\n",
       "    .dataframe tbody tr th:only-of-type {\n",
       "        vertical-align: middle;\n",
       "    }\n",
       "\n",
       "    .dataframe tbody tr th {\n",
       "        vertical-align: top;\n",
       "    }\n",
       "\n",
       "    .dataframe thead th {\n",
       "        text-align: right;\n",
       "    }\n",
       "</style>\n",
       "<table border=\"1\" class=\"dataframe\">\n",
       "  <thead>\n",
       "    <tr style=\"text-align: right;\">\n",
       "      <th></th>\n",
       "      <th>v</th>\n",
       "      <th>a_0</th>\n",
       "      <th>a_1</th>\n",
       "      <th>a_2</th>\n",
       "      <th>a_3</th>\n",
       "      <th>a_4</th>\n",
       "      <th>a_5</th>\n",
       "      <th>a_6</th>\n",
       "      <th>a_7</th>\n",
       "      <th>a_8</th>\n",
       "      <th>a_9</th>\n",
       "      <th>a_10</th>\n",
       "      <th>a_11</th>\n",
       "      <th>a_12</th>\n",
       "      <th>a_13</th>\n",
       "      <th>a_14</th>\n",
       "      <th>a_15</th>\n",
       "    </tr>\n",
       "  </thead>\n",
       "  <tbody>\n",
       "    <tr>\n",
       "      <th>0</th>\n",
       "      <td>0.0</td>\n",
       "      <td>0.72</td>\n",
       "      <td>0.64</td>\n",
       "      <td>0.0</td>\n",
       "      <td>0.62</td>\n",
       "      <td>0.52</td>\n",
       "      <td>0.5</td>\n",
       "      <td>0.62</td>\n",
       "      <td>0.48</td>\n",
       "      <td>0.0</td>\n",
       "      <td>0.0</td>\n",
       "      <td>1.0</td>\n",
       "      <td>0.0</td>\n",
       "      <td>0.4</td>\n",
       "      <td>0.58</td>\n",
       "      <td>0.42</td>\n",
       "      <td>0.4</td>\n",
       "    </tr>\n",
       "    <tr>\n",
       "      <th>1</th>\n",
       "      <td>0.0</td>\n",
       "      <td>0.72</td>\n",
       "      <td>0.64</td>\n",
       "      <td>0.0</td>\n",
       "      <td>0.62</td>\n",
       "      <td>0.52</td>\n",
       "      <td>0.5</td>\n",
       "      <td>0.62</td>\n",
       "      <td>0.48</td>\n",
       "      <td>0.0</td>\n",
       "      <td>0.0</td>\n",
       "      <td>1.0</td>\n",
       "      <td>0.0</td>\n",
       "      <td>0.4</td>\n",
       "      <td>0.58</td>\n",
       "      <td>0.42</td>\n",
       "      <td>0.4</td>\n",
       "    </tr>\n",
       "    <tr>\n",
       "      <th>2</th>\n",
       "      <td>0.0</td>\n",
       "      <td>0.72</td>\n",
       "      <td>0.64</td>\n",
       "      <td>0.0</td>\n",
       "      <td>0.62</td>\n",
       "      <td>0.52</td>\n",
       "      <td>0.5</td>\n",
       "      <td>0.62</td>\n",
       "      <td>0.48</td>\n",
       "      <td>0.0</td>\n",
       "      <td>0.0</td>\n",
       "      <td>1.0</td>\n",
       "      <td>0.0</td>\n",
       "      <td>0.4</td>\n",
       "      <td>0.58</td>\n",
       "      <td>0.42</td>\n",
       "      <td>0.4</td>\n",
       "    </tr>\n",
       "    <tr>\n",
       "      <th>3</th>\n",
       "      <td>0.0</td>\n",
       "      <td>0.00</td>\n",
       "      <td>0.00</td>\n",
       "      <td>0.0</td>\n",
       "      <td>0.00</td>\n",
       "      <td>0.00</td>\n",
       "      <td>0.0</td>\n",
       "      <td>0.00</td>\n",
       "      <td>0.00</td>\n",
       "      <td>0.0</td>\n",
       "      <td>0.0</td>\n",
       "      <td>0.0</td>\n",
       "      <td>0.0</td>\n",
       "      <td>0.0</td>\n",
       "      <td>0.00</td>\n",
       "      <td>0.00</td>\n",
       "      <td>0.0</td>\n",
       "    </tr>\n",
       "    <tr>\n",
       "      <th>4</th>\n",
       "      <td>0.0</td>\n",
       "      <td>0.00</td>\n",
       "      <td>0.00</td>\n",
       "      <td>0.0</td>\n",
       "      <td>0.00</td>\n",
       "      <td>0.00</td>\n",
       "      <td>0.0</td>\n",
       "      <td>0.00</td>\n",
       "      <td>0.00</td>\n",
       "      <td>0.0</td>\n",
       "      <td>0.0</td>\n",
       "      <td>0.0</td>\n",
       "      <td>0.0</td>\n",
       "      <td>0.0</td>\n",
       "      <td>0.00</td>\n",
       "      <td>0.00</td>\n",
       "      <td>0.0</td>\n",
       "    </tr>\n",
       "  </tbody>\n",
       "</table>\n",
       "</div>"
      ],
      "text/plain": [
       "     v   a_0   a_1  a_2   a_3   a_4  a_5   a_6   a_7  a_8  a_9  a_10  a_11  \\\n",
       "0  0.0  0.72  0.64  0.0  0.62  0.52  0.5  0.62  0.48  0.0  0.0   1.0   0.0   \n",
       "1  0.0  0.72  0.64  0.0  0.62  0.52  0.5  0.62  0.48  0.0  0.0   1.0   0.0   \n",
       "2  0.0  0.72  0.64  0.0  0.62  0.52  0.5  0.62  0.48  0.0  0.0   1.0   0.0   \n",
       "3  0.0  0.00  0.00  0.0  0.00  0.00  0.0  0.00  0.00  0.0  0.0   0.0   0.0   \n",
       "4  0.0  0.00  0.00  0.0  0.00  0.00  0.0  0.00  0.00  0.0  0.0   0.0   0.0   \n",
       "\n",
       "   a_12  a_13  a_14  a_15  \n",
       "0   0.4  0.58  0.42   0.4  \n",
       "1   0.4  0.58  0.42   0.4  \n",
       "2   0.4  0.58  0.42   0.4  \n",
       "3   0.0  0.00  0.00   0.0  \n",
       "4   0.0  0.00  0.00   0.0  "
      ]
     },
     "execution_count": 31,
     "metadata": {},
     "output_type": "execute_result"
    }
   ],
   "source": [
    "data_df = pd.DataFrame(data = data_map)\n",
    "data_df.head()"
   ]
  },
  {
   "cell_type": "code",
   "execution_count": 32,
   "id": "anticipated-burke",
   "metadata": {},
   "outputs": [
    {
     "data": {
      "text/plain": [
       "(5000, 17)"
      ]
     },
     "execution_count": 32,
     "metadata": {},
     "output_type": "execute_result"
    }
   ],
   "source": [
    "data_df.shape"
   ]
  },
  {
   "cell_type": "markdown",
   "id": "absolute-identification",
   "metadata": {},
   "source": [
    "Now, it's possible to explore how are the samples distrubed among wins and losses"
   ]
  },
  {
   "cell_type": "code",
   "execution_count": 33,
   "id": "geographic-minority",
   "metadata": {},
   "outputs": [
    {
     "data": {
      "text/html": [
       "<div>\n",
       "<style scoped>\n",
       "    .dataframe tbody tr th:only-of-type {\n",
       "        vertical-align: middle;\n",
       "    }\n",
       "\n",
       "    .dataframe tbody tr th {\n",
       "        vertical-align: top;\n",
       "    }\n",
       "\n",
       "    .dataframe thead th {\n",
       "        text-align: right;\n",
       "    }\n",
       "</style>\n",
       "<table border=\"1\" class=\"dataframe\">\n",
       "  <thead>\n",
       "    <tr style=\"text-align: right;\">\n",
       "      <th></th>\n",
       "      <th>count</th>\n",
       "    </tr>\n",
       "    <tr>\n",
       "      <th>v</th>\n",
       "      <th></th>\n",
       "    </tr>\n",
       "  </thead>\n",
       "  <tbody>\n",
       "    <tr>\n",
       "      <th>0.0</th>\n",
       "      <td>3999</td>\n",
       "    </tr>\n",
       "    <tr>\n",
       "      <th>1.0</th>\n",
       "      <td>1001</td>\n",
       "    </tr>\n",
       "  </tbody>\n",
       "</table>\n",
       "</div>"
      ],
      "text/plain": [
       "     count\n",
       "v         \n",
       "0.0   3999\n",
       "1.0   1001"
      ]
     },
     "execution_count": 33,
     "metadata": {},
     "output_type": "execute_result"
    }
   ],
   "source": [
    "outcomes_df = data_df.groupby('v').agg({'v': ['count']})['v']\n",
    "outcomes_df"
   ]
  },
  {
   "cell_type": "code",
   "execution_count": 34,
   "id": "measured-messaging",
   "metadata": {},
   "outputs": [
    {
     "data": {
      "text/plain": [
       "<AxesSubplot:xlabel='v'>"
      ]
     },
     "execution_count": 34,
     "metadata": {},
     "output_type": "execute_result"
    },
    {
     "data": {
      "image/png": "[encoded data removed]",
      "text/plain": [
       "<Figure size 432x288 with 1 Axes>"
      ]
     },
     "metadata": {
      "needs_background": "light"
     },
     "output_type": "display_data"
    }
   ],
   "source": [
    "outcomes_df.plot(kind='bar')"
   ]
  },
  {
   "cell_type": "markdown",
   "id": "still-hamburg",
   "metadata": {},
   "source": [
    "The dataset is not balanced given that are more states representing losses than winning scenarios. It's important to split them using the stratified method to make sure wins and losses are both equally represented in each data set."
   ]
  },
  {
   "cell_type": "markdown",
   "id": "nonprofit-humor",
   "metadata": {},
   "source": [
    "### Splitting data stratified\n",
    "The data frame `data_df` does not contain all the data so `x` will be used to represent the index in the real data set and `y` will be represented by the `v` values in order to ensure they are splited equally among datasets."
   ]
  },
  {
   "cell_type": "code",
   "execution_count": 35,
   "id": "certain-importance",
   "metadata": {},
   "outputs": [],
   "source": [
    "x = pd.DataFrame(data=[i for i in range(data_df.shape[0])])\n",
    "y = data_df.drop(columns=actions_cols)"
   ]
  },
  {
   "cell_type": "code",
   "execution_count": 36,
   "id": "young-retirement",
   "metadata": {},
   "outputs": [],
   "source": [
    "sss = StratifiedShuffleSplit(n_splits=1, test_size=0.3, random_state=26)"
   ]
  },
  {
   "cell_type": "code",
   "execution_count": 37,
   "id": "progressive-helmet",
   "metadata": {},
   "outputs": [],
   "source": [
    "for train_index, val_index in sss.split(x, y):\n",
    "    train = [parsed_data[i] for i in range(len(parsed_data)) if i in train_index]\n",
    "    validation = [parsed_data[i] for i in range(len(parsed_data)) if i in val_index]\n",
    "    "
   ]
  },
  {
   "cell_type": "markdown",
   "id": "beneficial-chicken",
   "metadata": {},
   "source": [
    "Next, it's posible to see how the data was distributed among training and validation datasets based on the games outputs. Both datasets contain an equal representation of losses and wins within. "
   ]
  },
  {
   "cell_type": "code",
   "execution_count": 38,
   "id": "wanted-johnston",
   "metadata": {},
   "outputs": [],
   "source": [
    "def get_data_frame_v(data):\n",
    "    data_v = list()\n",
    "    for d in data:\n",
    "        v = d['v']\n",
    "        data_v.append({'v': v})\n",
    "    return pd.DataFrame(data = data_v)"
   ]
  },
  {
   "cell_type": "code",
   "execution_count": 39,
   "id": "settled-retention",
   "metadata": {},
   "outputs": [],
   "source": [
    "train_df = get_data_frame_v(train)\n",
    "validation_df = get_data_frame_v(validation)"
   ]
  },
  {
   "cell_type": "code",
   "execution_count": 40,
   "id": "remarkable-accused",
   "metadata": {},
   "outputs": [
    {
     "data": {
      "text/html": [
       "<div>\n",
       "<style scoped>\n",
       "    .dataframe tbody tr th:only-of-type {\n",
       "        vertical-align: middle;\n",
       "    }\n",
       "\n",
       "    .dataframe tbody tr th {\n",
       "        vertical-align: top;\n",
       "    }\n",
       "\n",
       "    .dataframe thead tr th {\n",
       "        text-align: left;\n",
       "    }\n",
       "\n",
       "    .dataframe thead tr:last-of-type th {\n",
       "        text-align: right;\n",
       "    }\n",
       "</style>\n",
       "<table border=\"1\" class=\"dataframe\">\n",
       "  <thead>\n",
       "    <tr>\n",
       "      <th></th>\n",
       "      <th>v</th>\n",
       "    </tr>\n",
       "    <tr>\n",
       "      <th></th>\n",
       "      <th>count</th>\n",
       "    </tr>\n",
       "    <tr>\n",
       "      <th>v</th>\n",
       "      <th></th>\n",
       "    </tr>\n",
       "  </thead>\n",
       "  <tbody>\n",
       "    <tr>\n",
       "      <th>0.0</th>\n",
       "      <td>2799</td>\n",
       "    </tr>\n",
       "    <tr>\n",
       "      <th>1.0</th>\n",
       "      <td>701</td>\n",
       "    </tr>\n",
       "  </tbody>\n",
       "</table>\n",
       "</div>"
      ],
      "text/plain": [
       "        v\n",
       "    count\n",
       "v        \n",
       "0.0  2799\n",
       "1.0   701"
      ]
     },
     "execution_count": 40,
     "metadata": {},
     "output_type": "execute_result"
    }
   ],
   "source": [
    "train_df.groupby('v').agg({'v': ['count']})"
   ]
  },
  {
   "cell_type": "code",
   "execution_count": 41,
   "id": "lined-peter",
   "metadata": {},
   "outputs": [
    {
     "data": {
      "text/html": [
       "<div>\n",
       "<style scoped>\n",
       "    .dataframe tbody tr th:only-of-type {\n",
       "        vertical-align: middle;\n",
       "    }\n",
       "\n",
       "    .dataframe tbody tr th {\n",
       "        vertical-align: top;\n",
       "    }\n",
       "\n",
       "    .dataframe thead tr th {\n",
       "        text-align: left;\n",
       "    }\n",
       "\n",
       "    .dataframe thead tr:last-of-type th {\n",
       "        text-align: right;\n",
       "    }\n",
       "</style>\n",
       "<table border=\"1\" class=\"dataframe\">\n",
       "  <thead>\n",
       "    <tr>\n",
       "      <th></th>\n",
       "      <th>v</th>\n",
       "    </tr>\n",
       "    <tr>\n",
       "      <th></th>\n",
       "      <th>count</th>\n",
       "    </tr>\n",
       "    <tr>\n",
       "      <th>v</th>\n",
       "      <th></th>\n",
       "    </tr>\n",
       "  </thead>\n",
       "  <tbody>\n",
       "    <tr>\n",
       "      <th>0.0</th>\n",
       "      <td>1200</td>\n",
       "    </tr>\n",
       "    <tr>\n",
       "      <th>1.0</th>\n",
       "      <td>300</td>\n",
       "    </tr>\n",
       "  </tbody>\n",
       "</table>\n",
       "</div>"
      ],
      "text/plain": [
       "        v\n",
       "    count\n",
       "v        \n",
       "0.0  1200\n",
       "1.0   300"
      ]
     },
     "execution_count": 41,
     "metadata": {},
     "output_type": "execute_result"
    }
   ],
   "source": [
    "validation_df.groupby('v').agg({'v': ['count']})"
   ]
  },
  {
   "cell_type": "markdown",
   "id": "visible-argument",
   "metadata": {},
   "source": [
    "Finally the complete data is saved into `tfrecords` files, one for training and one for validation."
   ]
  },
  {
   "cell_type": "code",
   "execution_count": 42,
   "id": "sixth-peripheral",
   "metadata": {},
   "outputs": [],
   "source": [
    "def create_ds(channel, data):\n",
    "    with tf.io.TFRecordWriter(f'robot_reboot_data/{channel}.tfrecords') as f:\n",
    "        for d in data:\n",
    "            sample = get_tf_sample(d['v'], d['p'], d['s'])\n",
    "            f.write(sample.SerializeToString())"
   ]
  },
  {
   "cell_type": "code",
   "execution_count": null,
   "id": "crazy-stamp",
   "metadata": {},
   "outputs": [],
   "source": [
    "!mkdir robot_reboot_data"
   ]
  },
  {
   "cell_type": "code",
   "execution_count": null,
   "id": "satisfied-honolulu",
   "metadata": {},
   "outputs": [],
   "source": [
    "create_ds('train', train)\n",
    "create_ds('validation', validation)"
   ]
  }
 ],
 "metadata": {
  "kernelspec": {
   "display_name": "conda_tensorflow2_p36",
   "language": "python",
   "name": "conda_tensorflow2_p36"
  },
  "language_info": {
   "codemirror_mode": {
    "name": "ipython",
    "version": 3
   },
   "file_extension": ".py",
   "mimetype": "text/x-python",
   "name": "python",
   "nbconvert_exporter": "python",
   "pygments_lexer": "ipython3",
   "version": "3.6.13"
  }
 },
 "nbformat": 4,
 "nbformat_minor": 5
}
