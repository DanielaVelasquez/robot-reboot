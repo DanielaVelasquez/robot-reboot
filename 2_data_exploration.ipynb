{
 "cells": [
  {
   "cell_type": "code",
   "execution_count": 1,
   "id": "inner-lawsuit",
   "metadata": {},
   "outputs": [],
   "source": [
    "import tensorflow as tf\n",
    "import numpy as np\n",
    "import pandas as pd\n",
    "from os import listdir\n",
    "from sklearn.model_selection import StratifiedShuffleSplit\n",
    "\n",
    "from src.ml.util import get_feature_desc, get_tf_sample"
   ]
  },
  {
   "cell_type": "markdown",
   "id": "planned-progress",
   "metadata": {},
   "source": [
    "### Reading all samples"
   ]
  },
  {
   "cell_type": "markdown",
   "id": "cultural-canon",
   "metadata": {},
   "source": [
    "All samples are read from the `data` directory, to later on be split into a training and validation set. Each sample is the result of a self-played game, by splitting the dataset it is important to make sure they are balanced, in this case it means there is a representation of wins and losts scenarios. "
   ]
  },
  {
   "cell_type": "code",
   "execution_count": 23,
   "id": "waiting-drama",
   "metadata": {},
   "outputs": [
    {
     "data": {
      "text/plain": [
       "['robot_reboot_0.tfrecords',\n",
       " 'robot_reboot_1.tfrecords',\n",
       " 'robot_reboot_2.tfrecords',\n",
       " 'robot_reboot_3.tfrecords',\n",
       " 'robot_reboot_4.tfrecords',\n",
       " 'robot_reboot_5.tfrecords',\n",
       " 'robot_reboot_6.tfrecords',\n",
       " 'robot_reboot_7.tfrecords',\n",
       " 'robot_reboot_8.tfrecords',\n",
       " 'robot_reboot_9.tfrecords',\n",
       " 'robot_reboot_10.tfrecords',\n",
       " 'robot_reboot_11.tfrecords',\n",
       " 'robot_reboot_12.tfrecords']"
      ]
     },
     "execution_count": 23,
     "metadata": {},
     "output_type": "execute_result"
    }
   ],
   "source": [
    "filenames = [f'robot_reboot_{i}.tfrecords' for i in range(0,13)]\n",
    "filenames"
   ]
  },
  {
   "cell_type": "markdown",
   "id": "loved-chamber",
   "metadata": {},
   "source": [
    "Following the data will be read from the `tfrecords` files and parsed into a data frame to explore the outputs of each game and the complete data (i.e it includes the state `s`, outcome `v` and probabilities `p`) is temporarily store in a list `parsed_data` for later used"
   ]
  },
  {
   "cell_type": "code",
   "execution_count": 24,
   "id": "returning-sympathy",
   "metadata": {},
   "outputs": [],
   "source": [
    "actions_cols = [f'a_{i}' for i in range(0, 16)]\n",
    "data_map = list()\n",
    "parsed_data = list()\n",
    "dataset = tf.data.TFRecordDataset(filenames)\n",
    "for serialized in dataset:\n",
    "    parsed = tf.io.parse_single_example(serialized, get_feature_desc())\n",
    "    \n",
    "    p = tf.sparse.to_dense(parsed['p']).numpy()\n",
    "    v = parsed['v'].numpy()\n",
    "    s = tf.sparse.to_dense(parsed['s']).numpy()\n",
    "    parsed_data.append({\n",
    "        'p': p,\n",
    "        'v': v,\n",
    "        's': s\n",
    "    })\n",
    "    obj = {\n",
    "        'v': v,\n",
    "    }\n",
    "\n",
    "    for j in range(len(actions_cols)):\n",
    "        col = actions_cols[j]\n",
    "        p_j = p[j]\n",
    "        obj[col] = p_j\n",
    "    data_map.append(obj)"
   ]
  },
  {
   "cell_type": "markdown",
   "id": "solved-bumper",
   "metadata": {},
   "source": [
    "`data_df` depicts the outcome of each game in `v` (`1` for a win and `0` for a loss) and the probability of winning for each action. The state of the game is not needed for now. "
   ]
  },
  {
   "cell_type": "code",
   "execution_count": 25,
   "id": "spatial-civilization",
   "metadata": {},
   "outputs": [
    {
     "data": {
      "text/html": [
       "<div>\n",
       "<style scoped>\n",
       "    .dataframe tbody tr th:only-of-type {\n",
       "        vertical-align: middle;\n",
       "    }\n",
       "\n",
       "    .dataframe tbody tr th {\n",
       "        vertical-align: top;\n",
       "    }\n",
       "\n",
       "    .dataframe thead th {\n",
       "        text-align: right;\n",
       "    }\n",
       "</style>\n",
       "<table border=\"1\" class=\"dataframe\">\n",
       "  <thead>\n",
       "    <tr style=\"text-align: right;\">\n",
       "      <th></th>\n",
       "      <th>v</th>\n",
       "      <th>a_0</th>\n",
       "      <th>a_1</th>\n",
       "      <th>a_2</th>\n",
       "      <th>a_3</th>\n",
       "      <th>a_4</th>\n",
       "      <th>a_5</th>\n",
       "      <th>a_6</th>\n",
       "      <th>a_7</th>\n",
       "      <th>a_8</th>\n",
       "      <th>a_9</th>\n",
       "      <th>a_10</th>\n",
       "      <th>a_11</th>\n",
       "      <th>a_12</th>\n",
       "      <th>a_13</th>\n",
       "      <th>a_14</th>\n",
       "      <th>a_15</th>\n",
       "    </tr>\n",
       "  </thead>\n",
       "  <tbody>\n",
       "    <tr>\n",
       "      <th>0</th>\n",
       "      <td>0.0</td>\n",
       "      <td>0.00</td>\n",
       "      <td>0.0</td>\n",
       "      <td>0.00</td>\n",
       "      <td>0.00</td>\n",
       "      <td>0.0</td>\n",
       "      <td>0.0</td>\n",
       "      <td>0.0</td>\n",
       "      <td>0.0</td>\n",
       "      <td>0.00</td>\n",
       "      <td>0.00</td>\n",
       "      <td>0.00</td>\n",
       "      <td>0.00</td>\n",
       "      <td>0.0</td>\n",
       "      <td>0.00</td>\n",
       "      <td>0.00</td>\n",
       "      <td>0.00</td>\n",
       "    </tr>\n",
       "    <tr>\n",
       "      <th>1</th>\n",
       "      <td>0.0</td>\n",
       "      <td>0.00</td>\n",
       "      <td>0.0</td>\n",
       "      <td>0.00</td>\n",
       "      <td>0.00</td>\n",
       "      <td>0.0</td>\n",
       "      <td>0.0</td>\n",
       "      <td>0.0</td>\n",
       "      <td>0.0</td>\n",
       "      <td>0.00</td>\n",
       "      <td>0.00</td>\n",
       "      <td>0.00</td>\n",
       "      <td>0.00</td>\n",
       "      <td>0.0</td>\n",
       "      <td>0.00</td>\n",
       "      <td>0.00</td>\n",
       "      <td>0.00</td>\n",
       "    </tr>\n",
       "    <tr>\n",
       "      <th>2</th>\n",
       "      <td>0.0</td>\n",
       "      <td>0.16</td>\n",
       "      <td>0.2</td>\n",
       "      <td>0.38</td>\n",
       "      <td>0.26</td>\n",
       "      <td>0.0</td>\n",
       "      <td>1.0</td>\n",
       "      <td>0.0</td>\n",
       "      <td>0.0</td>\n",
       "      <td>0.24</td>\n",
       "      <td>0.22</td>\n",
       "      <td>0.18</td>\n",
       "      <td>0.22</td>\n",
       "      <td>0.3</td>\n",
       "      <td>0.28</td>\n",
       "      <td>0.22</td>\n",
       "      <td>0.32</td>\n",
       "    </tr>\n",
       "    <tr>\n",
       "      <th>3</th>\n",
       "      <td>0.0</td>\n",
       "      <td>0.00</td>\n",
       "      <td>0.0</td>\n",
       "      <td>0.00</td>\n",
       "      <td>0.00</td>\n",
       "      <td>0.0</td>\n",
       "      <td>0.0</td>\n",
       "      <td>0.0</td>\n",
       "      <td>0.0</td>\n",
       "      <td>0.00</td>\n",
       "      <td>0.00</td>\n",
       "      <td>0.00</td>\n",
       "      <td>0.00</td>\n",
       "      <td>0.0</td>\n",
       "      <td>0.00</td>\n",
       "      <td>0.00</td>\n",
       "      <td>0.00</td>\n",
       "    </tr>\n",
       "    <tr>\n",
       "      <th>4</th>\n",
       "      <td>0.0</td>\n",
       "      <td>0.00</td>\n",
       "      <td>0.0</td>\n",
       "      <td>0.00</td>\n",
       "      <td>0.00</td>\n",
       "      <td>0.0</td>\n",
       "      <td>0.0</td>\n",
       "      <td>0.0</td>\n",
       "      <td>0.0</td>\n",
       "      <td>0.00</td>\n",
       "      <td>0.00</td>\n",
       "      <td>0.00</td>\n",
       "      <td>0.00</td>\n",
       "      <td>0.0</td>\n",
       "      <td>0.00</td>\n",
       "      <td>0.00</td>\n",
       "      <td>0.00</td>\n",
       "    </tr>\n",
       "  </tbody>\n",
       "</table>\n",
       "</div>"
      ],
      "text/plain": [
       "     v   a_0  a_1   a_2   a_3  a_4  a_5  a_6  a_7   a_8   a_9  a_10  a_11  \\\n",
       "0  0.0  0.00  0.0  0.00  0.00  0.0  0.0  0.0  0.0  0.00  0.00  0.00  0.00   \n",
       "1  0.0  0.00  0.0  0.00  0.00  0.0  0.0  0.0  0.0  0.00  0.00  0.00  0.00   \n",
       "2  0.0  0.16  0.2  0.38  0.26  0.0  1.0  0.0  0.0  0.24  0.22  0.18  0.22   \n",
       "3  0.0  0.00  0.0  0.00  0.00  0.0  0.0  0.0  0.0  0.00  0.00  0.00  0.00   \n",
       "4  0.0  0.00  0.0  0.00  0.00  0.0  0.0  0.0  0.0  0.00  0.00  0.00  0.00   \n",
       "\n",
       "   a_12  a_13  a_14  a_15  \n",
       "0   0.0  0.00  0.00  0.00  \n",
       "1   0.0  0.00  0.00  0.00  \n",
       "2   0.3  0.28  0.22  0.32  \n",
       "3   0.0  0.00  0.00  0.00  \n",
       "4   0.0  0.00  0.00  0.00  "
      ]
     },
     "execution_count": 25,
     "metadata": {},
     "output_type": "execute_result"
    }
   ],
   "source": [
    "data_df = pd.DataFrame(data = data_map)\n",
    "data_df.head()"
   ]
  },
  {
   "cell_type": "code",
   "execution_count": 46,
   "id": "laughing-racing",
   "metadata": {},
   "outputs": [
    {
     "data": {
      "text/plain": [
       "(4, 17)"
      ]
     },
     "execution_count": 46,
     "metadata": {},
     "output_type": "execute_result"
    }
   ],
   "source": [
    "data_df.shape"
   ]
  },
  {
   "cell_type": "markdown",
   "id": "orange-monster",
   "metadata": {},
   "source": [
    "Now, it's possible to explore how are the samples distrubed among wins and losses"
   ]
  },
  {
   "cell_type": "code",
   "execution_count": 26,
   "id": "documentary-uruguay",
   "metadata": {},
   "outputs": [
    {
     "data": {
      "text/html": [
       "<div>\n",
       "<style scoped>\n",
       "    .dataframe tbody tr th:only-of-type {\n",
       "        vertical-align: middle;\n",
       "    }\n",
       "\n",
       "    .dataframe tbody tr th {\n",
       "        vertical-align: top;\n",
       "    }\n",
       "\n",
       "    .dataframe thead th {\n",
       "        text-align: right;\n",
       "    }\n",
       "</style>\n",
       "<table border=\"1\" class=\"dataframe\">\n",
       "  <thead>\n",
       "    <tr style=\"text-align: right;\">\n",
       "      <th></th>\n",
       "      <th>count</th>\n",
       "    </tr>\n",
       "    <tr>\n",
       "      <th>v</th>\n",
       "      <th></th>\n",
       "    </tr>\n",
       "  </thead>\n",
       "  <tbody>\n",
       "    <tr>\n",
       "      <th>0.0</th>\n",
       "      <td>11</td>\n",
       "    </tr>\n",
       "    <tr>\n",
       "      <th>1.0</th>\n",
       "      <td>2</td>\n",
       "    </tr>\n",
       "  </tbody>\n",
       "</table>\n",
       "</div>"
      ],
      "text/plain": [
       "     count\n",
       "v         \n",
       "0.0     11\n",
       "1.0      2"
      ]
     },
     "execution_count": 26,
     "metadata": {},
     "output_type": "execute_result"
    }
   ],
   "source": [
    "outcomes_df = data_df.groupby('v').agg({'v': ['count']})['v']\n",
    "outcomes_df"
   ]
  },
  {
   "cell_type": "code",
   "execution_count": 7,
   "id": "lesbian-hughes",
   "metadata": {},
   "outputs": [
    {
     "data": {
      "text/plain": [
       "<AxesSubplot:xlabel='v'>"
      ]
     },
     "execution_count": 7,
     "metadata": {},
     "output_type": "execute_result"
    },
    {
     "data": {
      "image/png": "[encoded data removed]",
      "text/plain": [
       "<Figure size 432x288 with 1 Axes>"
      ]
     },
     "metadata": {
      "needs_background": "light"
     },
     "output_type": "display_data"
    }
   ],
   "source": [
    "outcomes_df.plot(kind='bar')"
   ]
  },
  {
   "cell_type": "markdown",
   "id": "raising-circulation",
   "metadata": {},
   "source": [
    "The dataset is not balanced given that are more states representing losses than winning scenarios. It's important to split them using the stratified method to make sure wins and losses are both equally represented in each data set."
   ]
  },
  {
   "cell_type": "markdown",
   "id": "hungry-tucson",
   "metadata": {},
   "source": [
    "### Splitting data stratified\n",
    "The data frame `data_df` does not contain all the data so `x` will be used to represent the index in the real data set and `y` will be represented by the `v` values in order to ensure they are splited equally among datasets."
   ]
  },
  {
   "cell_type": "code",
   "execution_count": 8,
   "id": "pregnant-aviation",
   "metadata": {},
   "outputs": [],
   "source": [
    "x = pd.DataFrame(data=[i for i in range(data_df.shape[0])])\n",
    "y = data_df.drop(columns=actions_cols)"
   ]
  },
  {
   "cell_type": "code",
   "execution_count": 9,
   "id": "indonesian-impact",
   "metadata": {},
   "outputs": [],
   "source": [
    "sss = StratifiedShuffleSplit(n_splits=1, test_size=0.3, random_state=26)"
   ]
  },
  {
   "cell_type": "code",
   "execution_count": 10,
   "id": "chronic-cedar",
   "metadata": {},
   "outputs": [],
   "source": [
    "for train_index, val_index in sss.split(x, y):\n",
    "    train = [parsed_data[i] for i in range(len(parsed_data)) if i in train_index]\n",
    "    validation = [parsed_data[i] for i in range(len(parsed_data)) if i in val_index]\n",
    "    "
   ]
  },
  {
   "cell_type": "markdown",
   "id": "suitable-soldier",
   "metadata": {},
   "source": [
    "Next, it's posible to see how the data was distributed among training and validation datasets based on the games outputs. Both datasets contain an equal representation of losses and wins within. "
   ]
  },
  {
   "cell_type": "code",
   "execution_count": 11,
   "id": "missing-buddy",
   "metadata": {},
   "outputs": [],
   "source": [
    "def get_data_frame_v(data):\n",
    "    data_v = list()\n",
    "    for d in data:\n",
    "        v = d['v']\n",
    "        data_v.append({'v': v})\n",
    "    return pd.DataFrame(data = data_v)"
   ]
  },
  {
   "cell_type": "code",
   "execution_count": 12,
   "id": "seasonal-richards",
   "metadata": {},
   "outputs": [],
   "source": [
    "train_df = get_data_frame_v(train)\n",
    "validation_df = get_data_frame_v(validation)"
   ]
  },
  {
   "cell_type": "code",
   "execution_count": 13,
   "id": "horizontal-incident",
   "metadata": {},
   "outputs": [
    {
     "data": {
      "text/html": [
       "<div>\n",
       "<style scoped>\n",
       "    .dataframe tbody tr th:only-of-type {\n",
       "        vertical-align: middle;\n",
       "    }\n",
       "\n",
       "    .dataframe tbody tr th {\n",
       "        vertical-align: top;\n",
       "    }\n",
       "\n",
       "    .dataframe thead tr th {\n",
       "        text-align: left;\n",
       "    }\n",
       "\n",
       "    .dataframe thead tr:last-of-type th {\n",
       "        text-align: right;\n",
       "    }\n",
       "</style>\n",
       "<table border=\"1\" class=\"dataframe\">\n",
       "  <thead>\n",
       "    <tr>\n",
       "      <th></th>\n",
       "      <th>v</th>\n",
       "    </tr>\n",
       "    <tr>\n",
       "      <th></th>\n",
       "      <th>count</th>\n",
       "    </tr>\n",
       "    <tr>\n",
       "      <th>v</th>\n",
       "      <th></th>\n",
       "    </tr>\n",
       "  </thead>\n",
       "  <tbody>\n",
       "    <tr>\n",
       "      <th>0.0</th>\n",
       "      <td>2799</td>\n",
       "    </tr>\n",
       "    <tr>\n",
       "      <th>1.0</th>\n",
       "      <td>701</td>\n",
       "    </tr>\n",
       "  </tbody>\n",
       "</table>\n",
       "</div>"
      ],
      "text/plain": [
       "        v\n",
       "    count\n",
       "v        \n",
       "0.0  2799\n",
       "1.0   701"
      ]
     },
     "execution_count": 13,
     "metadata": {},
     "output_type": "execute_result"
    }
   ],
   "source": [
    "train_df.groupby('v').agg({'v': ['count']})"
   ]
  },
  {
   "cell_type": "code",
   "execution_count": 14,
   "id": "cosmetic-essex",
   "metadata": {},
   "outputs": [
    {
     "data": {
      "text/html": [
       "<div>\n",
       "<style scoped>\n",
       "    .dataframe tbody tr th:only-of-type {\n",
       "        vertical-align: middle;\n",
       "    }\n",
       "\n",
       "    .dataframe tbody tr th {\n",
       "        vertical-align: top;\n",
       "    }\n",
       "\n",
       "    .dataframe thead tr th {\n",
       "        text-align: left;\n",
       "    }\n",
       "\n",
       "    .dataframe thead tr:last-of-type th {\n",
       "        text-align: right;\n",
       "    }\n",
       "</style>\n",
       "<table border=\"1\" class=\"dataframe\">\n",
       "  <thead>\n",
       "    <tr>\n",
       "      <th></th>\n",
       "      <th>v</th>\n",
       "    </tr>\n",
       "    <tr>\n",
       "      <th></th>\n",
       "      <th>count</th>\n",
       "    </tr>\n",
       "    <tr>\n",
       "      <th>v</th>\n",
       "      <th></th>\n",
       "    </tr>\n",
       "  </thead>\n",
       "  <tbody>\n",
       "    <tr>\n",
       "      <th>0.0</th>\n",
       "      <td>1200</td>\n",
       "    </tr>\n",
       "    <tr>\n",
       "      <th>1.0</th>\n",
       "      <td>300</td>\n",
       "    </tr>\n",
       "  </tbody>\n",
       "</table>\n",
       "</div>"
      ],
      "text/plain": [
       "        v\n",
       "    count\n",
       "v        \n",
       "0.0  1200\n",
       "1.0   300"
      ]
     },
     "execution_count": 14,
     "metadata": {},
     "output_type": "execute_result"
    }
   ],
   "source": [
    "validation_df.groupby('v').agg({'v': ['count']})"
   ]
  },
  {
   "cell_type": "markdown",
   "id": "perceived-archive",
   "metadata": {},
   "source": [
    "Finally the complete data is saved into `tfrecords` files, one for training and one for validation."
   ]
  },
  {
   "cell_type": "code",
   "execution_count": 15,
   "id": "urban-flavor",
   "metadata": {},
   "outputs": [],
   "source": [
    "def create_ds(channel, data):\n",
    "    with tf.io.TFRecordWriter(f'robot_reboot_data/{channel}.tfrecords') as f:\n",
    "        for d in data:\n",
    "            sample = get_tf_sample(d['v'], d['p'], d['s'])\n",
    "            f.write(sample.SerializeToString())"
   ]
  },
  {
   "cell_type": "code",
   "execution_count": 17,
   "id": "pleasant-greenhouse",
   "metadata": {},
   "outputs": [],
   "source": [
    "create_ds('train', train)\n",
    "create_ds('validation', validation)"
   ]
  },
  {
   "cell_type": "code",
   "execution_count": 33,
   "id": "joined-fossil",
   "metadata": {},
   "outputs": [],
   "source": [
    "\n",
    "s_0 = parsed_data[3]['s'].reshape((31, 31, 9))\n",
    "s_1 = parsed_data[12]['s'].reshape((31, 31, 9))\n"
   ]
  },
  {
   "cell_type": "code",
   "execution_count": 34,
   "id": "governing-associate",
   "metadata": {},
   "outputs": [
    {
     "ename": "AssertionError",
     "evalue": "\nArrays are not equal\n\nMismatched elements: 83 / 8649 (0.96%)\nMax absolute difference: 1.\nMax relative difference: 1.\n x: array([[[0., 0., 0., ..., 0., 0., 0.],\n        [0., 0., 0., ..., 0., 0., 0.],\n        [0., 0., 0., ..., 0., 0., 0.],...\n y: array([[[0., 0., 0., ..., 0., 0., 0.],\n        [0., 0., 0., ..., 0., 0., 0.],\n        [0., 0., 0., ..., 0., 0., 0.],...",
     "output_type": "error",
     "traceback": [
      "\u001b[0;31m---------------------------------------------------------------------------\u001b[0m",
      "\u001b[0;31mAssertionError\u001b[0m                            Traceback (most recent call last)",
      "\u001b[0;32m<ipython-input-34-51070053d9fb>\u001b[0m in \u001b[0;36m<module>\u001b[0;34m\u001b[0m\n\u001b[0;32m----> 1\u001b[0;31m \u001b[0mnp\u001b[0m\u001b[0;34m.\u001b[0m\u001b[0mtesting\u001b[0m\u001b[0;34m.\u001b[0m\u001b[0massert_equal\u001b[0m\u001b[0;34m(\u001b[0m\u001b[0ms_0\u001b[0m\u001b[0;34m,\u001b[0m \u001b[0ms_1\u001b[0m\u001b[0;34m)\u001b[0m\u001b[0;34m\u001b[0m\u001b[0;34m\u001b[0m\u001b[0m\n\u001b[0m",
      "    \u001b[0;31m[... skipping hidden 2 frame]\u001b[0m\n",
      "\u001b[0;32m~/mlearning/robot-reboot/src/robotenv/lib/python3.7/site-packages/numpy/testing/_private/utils.py\u001b[0m in \u001b[0;36massert_array_compare\u001b[0;34m(comparison, x, y, err_msg, verbose, header, precision, equal_nan, equal_inf)\u001b[0m\n\u001b[1;32m    838\u001b[0m                                 \u001b[0mverbose\u001b[0m\u001b[0;34m=\u001b[0m\u001b[0mverbose\u001b[0m\u001b[0;34m,\u001b[0m \u001b[0mheader\u001b[0m\u001b[0;34m=\u001b[0m\u001b[0mheader\u001b[0m\u001b[0;34m,\u001b[0m\u001b[0;34m\u001b[0m\u001b[0;34m\u001b[0m\u001b[0m\n\u001b[1;32m    839\u001b[0m                                 names=('x', 'y'), precision=precision)\n\u001b[0;32m--> 840\u001b[0;31m             \u001b[0;32mraise\u001b[0m \u001b[0mAssertionError\u001b[0m\u001b[0;34m(\u001b[0m\u001b[0mmsg\u001b[0m\u001b[0;34m)\u001b[0m\u001b[0;34m\u001b[0m\u001b[0;34m\u001b[0m\u001b[0m\n\u001b[0m\u001b[1;32m    841\u001b[0m     \u001b[0;32mexcept\u001b[0m \u001b[0mValueError\u001b[0m\u001b[0;34m:\u001b[0m\u001b[0;34m\u001b[0m\u001b[0;34m\u001b[0m\u001b[0m\n\u001b[1;32m    842\u001b[0m         \u001b[0;32mimport\u001b[0m \u001b[0mtraceback\u001b[0m\u001b[0;34m\u001b[0m\u001b[0;34m\u001b[0m\u001b[0m\n",
      "\u001b[0;31mAssertionError\u001b[0m: \nArrays are not equal\n\nMismatched elements: 83 / 8649 (0.96%)\nMax absolute difference: 1.\nMax relative difference: 1.\n x: array([[[0., 0., 0., ..., 0., 0., 0.],\n        [0., 0., 0., ..., 0., 0., 0.],\n        [0., 0., 0., ..., 0., 0., 0.],...\n y: array([[[0., 0., 0., ..., 0., 0., 0.],\n        [0., 0., 0., ..., 0., 0., 0.],\n        [0., 0., 0., ..., 0., 0., 0.],..."
     ]
    }
   ],
   "source": [
    "np.testing.assert_equal(s_0, s_1)"
   ]
  },
  {
   "cell_type": "code",
   "execution_count": 84,
   "id": "signed-albania",
   "metadata": {},
   "outputs": [
    {
     "name": "stdout",
     "output_type": "stream",
     "text": [
      "False\n"
     ]
    }
   ],
   "source": [
    "total = len(parsed_data)\n",
    "for i in range(total):\n",
    "    s_0 = parsed_data[i]['s']\n",
    "    for j in range(i + 1, total):\n",
    "        s_1 = parsed_data[j]['s']\n",
    "        print(np.array_equal(s_0, s_1))\n",
    "        assert np.array_equal(s_0, s_1) is False"
   ]
  },
  {
   "cell_type": "code",
   "execution_count": 85,
   "id": "matched-apollo",
   "metadata": {},
   "outputs": [
    {
     "data": {
      "text/plain": [
       "array([ True,  True,  True, ...,  True,  True,  True])"
      ]
     },
     "execution_count": 85,
     "metadata": {},
     "output_type": "execute_result"
    }
   ],
   "source": [
    "s_0 == s_1"
   ]
  },
  {
   "cell_type": "code",
   "execution_count": null,
   "id": "beautiful-preserve",
   "metadata": {},
   "outputs": [],
   "source": []
  }
 ],
 "metadata": {
  "kernelspec": {
   "display_name": "Python 3",
   "language": "python",
   "name": "python3"
  },
  "language_info": {
   "codemirror_mode": {
    "name": "ipython",
    "version": 3
   },
   "file_extension": ".py",
   "mimetype": "text/x-python",
   "name": "python",
   "nbconvert_exporter": "python",
   "pygments_lexer": "ipython3",
   "version": "3.7.7"
  }
 },
 "nbformat": 4,
 "nbformat_minor": 5
}
