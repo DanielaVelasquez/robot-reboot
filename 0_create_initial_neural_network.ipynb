{
 "cells": [
  {
   "cell_type": "code",
   "execution_count": 2,
   "id": "gothic-project",
   "metadata": {},
   "outputs": [],
   "source": [
    "import tensorflow as tf\n",
    "from src.ml.model import get_model"
   ]
  },
  {
   "cell_type": "markdown",
   "id": "dressed-hepatitis",
   "metadata": {},
   "source": [
    "### Convolutional neural network\n",
    "\n",
    "Montecarlo tree search (MCTS) requires a neural network to help it lead the search. Initially a model with random weights is initialized to be used by MCTS and overtime it is trained to give more accurate results. \n",
    "\n",
    "A state $s$ is represented using a 3-dimensional matrix that describes the maze, robots positions and their home targets. A convolutional neural network with a traditional Lenet-5 architecture is utilized, however it contains two outputs: \n",
    "- $v$ represents the value of a state, whether it will be a win, loss or draw\n",
    "- $p$ probability distribution over each action. Number 16 comes from the number of robots in the maze: 4, multiplied by the number of actions per robot: 4 (North, South, East and West)"
   ]
  },
  {
   "cell_type": "code",
   "execution_count": 3,
   "id": "international-tribune",
   "metadata": {},
   "outputs": [
    {
     "name": "stdout",
     "output_type": "stream",
     "text": [
      "Model: \"model\"\n",
      "__________________________________________________________________________________________________\n",
      "Layer (type)                    Output Shape         Param #     Connected to                     \n",
      "==================================================================================================\n",
      "input (InputLayer)              [(None, 31, 31, 9)]  0                                            \n",
      "__________________________________________________________________________________________________\n",
      "conv_0 (Conv2D)                 (None, 31, 31, 64)   9280        input[0][0]                      \n",
      "__________________________________________________________________________________________________\n",
      "max_pooling2d (MaxPooling2D)    (None, 15, 15, 64)   0           conv_0[0][0]                     \n",
      "__________________________________________________________________________________________________\n",
      "conv_1 (Conv2D)                 (None, 15, 15, 64)   65600       max_pooling2d[0][0]              \n",
      "__________________________________________________________________________________________________\n",
      "max_pooling2d_1 (MaxPooling2D)  (None, 7, 7, 64)     0           conv_1[0][0]                     \n",
      "__________________________________________________________________________________________________\n",
      "conv_2 (Conv2D)                 (None, 7, 7, 64)     65600       max_pooling2d_1[0][0]            \n",
      "__________________________________________________________________________________________________\n",
      "max_pooling2d_2 (MaxPooling2D)  (None, 3, 3, 64)     0           conv_2[0][0]                     \n",
      "__________________________________________________________________________________________________\n",
      "flatten (Flatten)               (None, 576)          0           max_pooling2d_2[0][0]            \n",
      "__________________________________________________________________________________________________\n",
      "dense_1 (Dense)                 (None, 128)          73856       flatten[0][0]                    \n",
      "__________________________________________________________________________________________________\n",
      "dropout_1 (Dropout)             (None, 128)          0           dense_1[0][0]                    \n",
      "__________________________________________________________________________________________________\n",
      "dense_2 (Dense)                 (None, 128)          16512       dropout_1[0][0]                  \n",
      "__________________________________________________________________________________________________\n",
      "dropout_2 (Dropout)             (None, 128)          0           dense_2[0][0]                    \n",
      "__________________________________________________________________________________________________\n",
      "v (Dense)                       (None, 1)            129         dropout_2[0][0]                  \n",
      "__________________________________________________________________________________________________\n",
      "p (Dense)                       (None, 16)           2064        dropout_2[0][0]                  \n",
      "==================================================================================================\n",
      "Total params: 233,041\n",
      "Trainable params: 233,041\n",
      "Non-trainable params: 0\n",
      "__________________________________________________________________________________________________\n"
     ]
    }
   ],
   "source": [
    "cnn = get_model()\n",
    "cnn.summary()"
   ]
  },
  {
   "cell_type": "markdown",
   "id": "wired-cause",
   "metadata": {},
   "source": [
    "Initial model is stored to be used by the MCTS when the dataset is generated."
   ]
  },
  {
   "cell_type": "code",
   "execution_count": null,
   "id": "grateful-particle",
   "metadata": {},
   "outputs": [],
   "source": [
    "cnn.save('model/model_0')"
   ]
  },
  {
   "cell_type": "code",
   "execution_count": null,
   "id": "refined-rough",
   "metadata": {},
   "outputs": [],
   "source": [
    "cnn.save_weights('robot_reboot_model/model_0/')"
   ]
  },
  {
   "cell_type": "code",
   "execution_count": null,
   "id": "sunrise-hardwood",
   "metadata": {},
   "outputs": [],
   "source": []
  }
 ],
 "metadata": {
  "kernelspec": {
   "display_name": "Python 3",
   "language": "python",
   "name": "python3"
  },
  "language_info": {
   "codemirror_mode": {
    "name": "ipython",
    "version": 3
   },
   "file_extension": ".py",
   "mimetype": "text/x-python",
   "name": "python",
   "nbconvert_exporter": "python",
   "pygments_lexer": "ipython3",
   "version": "3.7.7"
  }
 },
 "nbformat": 4,
 "nbformat_minor": 5
}
