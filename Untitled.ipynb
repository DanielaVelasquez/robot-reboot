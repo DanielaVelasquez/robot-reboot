{
 "cells": [
  {
   "cell_type": "code",
   "execution_count": 1,
   "id": "consolidated-peter",
   "metadata": {},
   "outputs": [],
   "source": [
    "from src.ml.model import get_model\n",
    "import tensorflow as tf"
   ]
  },
  {
   "cell_type": "code",
   "execution_count": 2,
   "id": "recreational-immunology",
   "metadata": {},
   "outputs": [],
   "source": [
    "HEIGHT = 31\n",
    "WIDTH = 31\n",
    "DEPTH = 9\n",
    "NUM_CLASSES = 16\n",
    "SHUFFLE_BUFFER_SIZE = 100"
   ]
  },
  {
   "cell_type": "code",
   "execution_count": 3,
   "id": "lightweight-better",
   "metadata": {},
   "outputs": [],
   "source": [
    "def read_tfrecord(example):\n",
    "    feature_desc = {\n",
    "        'v': tf.io.FixedLenFeature([], tf.float32),\n",
    "        'p': tf.io.VarLenFeature(tf.float32),\n",
    "        's': tf.io.VarLenFeature(tf.float32)\n",
    "    }\n",
    "    parsed = tf.io.parse_single_example(example, feature_desc)\n",
    "    x = tf.reshape(tf.sparse.to_dense(parsed['s']), (1, HEIGHT, WIDTH, DEPTH))\n",
    "    p = tf.reshape(tf.sparse.to_dense(parsed['p']), (1, 16))\n",
    "    v = tf.reshape(parsed['v'], (1, 1))\n",
    "\n",
    "    y = {'v': v, 'p': p}\n",
    "    return x, y"
   ]
  },
  {
   "cell_type": "code",
   "execution_count": 4,
   "id": "democratic-cincinnati",
   "metadata": {},
   "outputs": [],
   "source": [
    "def _input(epochs, filenames):\n",
    "    dataset = tf.data.TFRecordDataset(filenames)\n",
    "    dataset = dataset.map(read_tfrecord, num_parallel_calls=20)\n",
    "    dataset = dataset.shuffle(SHUFFLE_BUFFER_SIZE).prefetch(1)\n",
    "\n",
    "    return dataset"
   ]
  },
  {
   "cell_type": "code",
   "execution_count": 11,
   "id": "precious-square",
   "metadata": {},
   "outputs": [],
   "source": [
    "train_ds = _input(20, ['robot_reboot_data/train.tfrecords'])\n",
    "valid_ds = _input(20, ['robot_reboot_data/validation.tfrecords'])"
   ]
  },
  {
   "cell_type": "code",
   "execution_count": 12,
   "id": "actual-pavilion",
   "metadata": {},
   "outputs": [],
   "source": [
    "model = get_model()\n",
    "model.load_weights('robot_reboot_model/model_0/')\n",
    "losses = {\n",
    "    \"v\": 'mean_squared_error',\n",
    "    \"p\": tf.keras.losses.BinaryCrossentropy()\n",
    "}\n",
    "model.compile(loss=losses, optimizer='adam')"
   ]
  },
  {
   "cell_type": "code",
   "execution_count": 13,
   "id": "dying-rally",
   "metadata": {},
   "outputs": [],
   "source": [
    "from matplotlib import pyplot as plt\n",
    "def show(h):\n",
    "    plt.plot(h.history['loss'])\n",
    "    plt.plot(h.history['val_loss'])\n",
    "    plt.title('model loss')\n",
    "    plt.ylabel('loss')\n",
    "    plt.xlabel('epoch')\n",
    "    plt.legend(['train', 'val'], loc='upper left')\n",
    "    plt.show()  \n",
    "    \n",
    "def show_acc(h):\n",
    "    plt.plot(h.history['p_accuracy'])\n",
    "    plt.plot(h.history['val_p_accuracy'])\n",
    "    plt.title('model accuracy')\n",
    "    plt.ylabel('accuracy')\n",
    "    plt.xlabel('epoch')\n",
    "    plt.legend(['train', 'val'], loc='upper left')\n",
    "    plt.show()  "
   ]
  },
  {
   "cell_type": "code",
   "execution_count": 16,
   "id": "fossil-fountain",
   "metadata": {},
   "outputs": [
    {
     "name": "stdout",
     "output_type": "stream",
     "text": [
      "Epoch 1/100\n",
      "51156/51156 [==============================] - 250s 5ms/step - loss: 0.6845 - v_loss: 0.0494 - p_loss: 0.6351 - v_accuracy: 0.0020 - p_accuracy: 0.0000e+00 - val_loss: 0.5702 - val_v_loss: 0.0179 - val_p_loss: 0.5523 - val_v_accuracy: 7.2979e-04 - val_p_accuracy: 0.0000e+00\n",
      "Epoch 2/100\n",
      "51156/51156 [==============================] - 245s 5ms/step - loss: 0.5903 - v_loss: 0.0219 - p_loss: 0.5684 - v_accuracy: 0.0106 - p_accuracy: 5.2624e-06 - val_loss: 0.5672 - val_v_loss: 0.0194 - val_p_loss: 0.5478 - val_v_accuracy: 2.2806e-04 - val_p_accuracy: 0.0000e+00\n",
      "Epoch 3/100\n",
      "51156/51156 [==============================] - 245s 5ms/step - loss: 0.5820 - v_loss: 0.0213 - p_loss: 0.5608 - v_accuracy: 0.0144 - p_accuracy: 1.4235e-05 - val_loss: 0.5679 - val_v_loss: 0.0180 - val_p_loss: 0.5500 - val_v_accuracy: 0.0164 - val_p_accuracy: 0.0000e+00\n",
      "Epoch 4/100\n",
      "51156/51156 [==============================] - 241s 5ms/step - loss: 0.5906 - v_loss: 0.0231 - p_loss: 0.5674 - v_accuracy: 0.0144 - p_accuracy: 3.9580e-05 - val_loss: 0.5581 - val_v_loss: 0.0182 - val_p_loss: 0.5399 - val_v_accuracy: 0.0024 - val_p_accuracy: 0.0000e+00\n",
      "Epoch 5/100\n",
      "51156/51156 [==============================] - 240s 5ms/step - loss: 0.5869 - v_loss: 0.0213 - p_loss: 0.5657 - v_accuracy: 0.0117 - p_accuracy: 8.9689e-06 - val_loss: 0.5628 - val_v_loss: 0.0184 - val_p_loss: 0.5443 - val_v_accuracy: 0.0047 - val_p_accuracy: 0.0000e+00\n",
      "Epoch 6/100\n",
      "51156/51156 [==============================] - 242s 5ms/step - loss: 0.5929 - v_loss: 0.0214 - p_loss: 0.5715 - v_accuracy: 0.0099 - p_accuracy: 5.3564e-05 - val_loss: 0.5564 - val_v_loss: 0.0175 - val_p_loss: 0.5389 - val_v_accuracy: 0.0025 - val_p_accuracy: 0.0000e+00\n",
      "Epoch 7/100\n",
      "51156/51156 [==============================] - 242s 5ms/step - loss: 0.5934 - v_loss: 0.0209 - p_loss: 0.5725 - v_accuracy: 0.0106 - p_accuracy: 3.7748e-05 - val_loss: 0.6146 - val_v_loss: 0.0178 - val_p_loss: 0.5968 - val_v_accuracy: 0.0030 - val_p_accuracy: 0.0000e+00\n",
      "Epoch 8/100\n",
      "51156/51156 [==============================] - 238s 5ms/step - loss: 0.6032 - v_loss: 0.0209 - p_loss: 0.5823 - v_accuracy: 0.0106 - p_accuracy: 4.3215e-05 - val_loss: 0.5762 - val_v_loss: 0.0195 - val_p_loss: 0.5567 - val_v_accuracy: 0.0026 - val_p_accuracy: 5.7015e-06\n",
      "Epoch 9/100\n",
      "51156/51156 [==============================] - 238s 5ms/step - loss: 0.5996 - v_loss: 0.0220 - p_loss: 0.5776 - v_accuracy: 0.0106 - p_accuracy: 7.7549e-05 - val_loss: 0.5743 - val_v_loss: 0.0181 - val_p_loss: 0.5562 - val_v_accuracy: 0.0017 - val_p_accuracy: 4.2761e-05\n",
      "\n",
      "Epoch 00009: ReduceLROnPlateau reducing learning rate to 0.001.\n",
      "Epoch 10/100\n",
      "51156/51156 [==============================] - 241s 5ms/step - loss: 0.6091 - v_loss: 0.0225 - p_loss: 0.5867 - v_accuracy: 0.0087 - p_accuracy: 3.2799e-05 - val_loss: 0.5930 - val_v_loss: 0.0189 - val_p_loss: 0.5742 - val_v_accuracy: 0.0081 - val_p_accuracy: 0.0000e+00\n",
      "Epoch 11/100\n",
      "51156/51156 [==============================] - 243s 5ms/step - loss: 0.6096 - v_loss: 0.0235 - p_loss: 0.5862 - v_accuracy: 0.0092 - p_accuracy: 5.9256e-05 - val_loss: 0.6079 - val_v_loss: 0.0177 - val_p_loss: 0.5903 - val_v_accuracy: 0.0021 - val_p_accuracy: 0.0000e+00\n",
      "Epoch 12/100\n",
      "51156/51156 [==============================] - 236s 5ms/step - loss: 0.6228 - v_loss: 0.0222 - p_loss: 0.6006 - v_accuracy: 0.0109 - p_accuracy: 4.8428e-05 - val_loss: 0.5745 - val_v_loss: 0.0199 - val_p_loss: 0.5546 - val_v_accuracy: 0.0083 - val_p_accuracy: 0.0000e+00\n",
      "\n",
      "Epoch 00012: ReduceLROnPlateau reducing learning rate to 0.001.\n",
      "Epoch 13/100\n",
      "51156/51156 [==============================] - 239s 5ms/step - loss: 0.6107 - v_loss: 0.0220 - p_loss: 0.5887 - v_accuracy: 0.0128 - p_accuracy: 5.5686e-05 - val_loss: 0.5993 - val_v_loss: 0.0181 - val_p_loss: 0.5812 - val_v_accuracy: 0.0109 - val_p_accuracy: 0.0000e+00\n",
      "Epoch 14/100\n",
      "51156/51156 [==============================] - 238s 5ms/step - loss: 0.5921 - v_loss: 0.0218 - p_loss: 0.5703 - v_accuracy: 0.0113 - p_accuracy: 4.2803e-05 - val_loss: 0.5976 - val_v_loss: 0.0213 - val_p_loss: 0.5763 - val_v_accuracy: 0.0109 - val_p_accuracy: 2.8508e-06\n",
      "Epoch 15/100\n",
      "51156/51156 [==============================] - 237s 5ms/step - loss: 0.6086 - v_loss: 0.0237 - p_loss: 0.5849 - v_accuracy: 0.0144 - p_accuracy: 7.5625e-05 - val_loss: 0.5678 - val_v_loss: 0.0187 - val_p_loss: 0.5491 - val_v_accuracy: 0.0015 - val_p_accuracy: 0.0000e+00\n",
      "\n",
      "Epoch 00015: ReduceLROnPlateau reducing learning rate to 0.001.\n",
      "Epoch 16/100\n",
      "51156/51156 [==============================] - 236s 5ms/step - loss: 0.6214 - v_loss: 0.0226 - p_loss: 0.5988 - v_accuracy: 0.0144 - p_accuracy: 7.1473e-05 - val_loss: 0.5691 - val_v_loss: 0.0209 - val_p_loss: 0.5482 - val_v_accuracy: 0.0055 - val_p_accuracy: 0.0000e+00\n",
      "Epoch 17/100\n",
      "51156/51156 [==============================] - 241s 5ms/step - loss: 0.6044 - v_loss: 0.0222 - p_loss: 0.5822 - v_accuracy: 0.0133 - p_accuracy: 8.6133e-05 - val_loss: 0.6074 - val_v_loss: 0.0210 - val_p_loss: 0.5865 - val_v_accuracy: 0.0120 - val_p_accuracy: 1.4254e-05\n",
      "Epoch 18/100\n",
      "51156/51156 [==============================] - 239s 5ms/step - loss: 0.6195 - v_loss: 0.0233 - p_loss: 0.5962 - v_accuracy: 0.0165 - p_accuracy: 1.8675e-04 - val_loss: 0.6606 - val_v_loss: 0.0200 - val_p_loss: 0.6406 - val_v_accuracy: 0.0071 - val_p_accuracy: 2.8508e-06\n",
      "\n",
      "Epoch 00018: ReduceLROnPlateau reducing learning rate to 0.001.\n",
      "Epoch 19/100\n",
      "51156/51156 [==============================] - 239s 5ms/step - loss: 0.6393 - v_loss: 0.0223 - p_loss: 0.6171 - v_accuracy: 0.0170 - p_accuracy: 1.1535e-04 - val_loss: 0.5729 - val_v_loss: 0.0184 - val_p_loss: 0.5544 - val_v_accuracy: 0.0159 - val_p_accuracy: 0.0000e+00\n",
      "Epoch 20/100\n",
      "51156/51156 [==============================] - 242s 5ms/step - loss: 0.6118 - v_loss: 0.0220 - p_loss: 0.5897 - v_accuracy: 0.0223 - p_accuracy: 1.2683e-04 - val_loss: 0.6311 - val_v_loss: 0.0192 - val_p_loss: 0.6120 - val_v_accuracy: 0.0135 - val_p_accuracy: 0.0000e+00\n",
      "Epoch 21/100\n",
      "51156/51156 [==============================] - 236s 5ms/step - loss: 0.6362 - v_loss: 0.0228 - p_loss: 0.6135 - v_accuracy: 0.0208 - p_accuracy: 2.0115e-04 - val_loss: 0.5857 - val_v_loss: 0.0227 - val_p_loss: 0.5630 - val_v_accuracy: 0.0039 - val_p_accuracy: 0.0000e+00\n",
      "\n",
      "Epoch 00021: ReduceLROnPlateau reducing learning rate to 0.001.\n",
      "Epoch 22/100\n",
      "51156/51156 [==============================] - 240s 5ms/step - loss: 0.5928 - v_loss: 0.0215 - p_loss: 0.5713 - v_accuracy: 0.0196 - p_accuracy: 1.2413e-04 - val_loss: 0.5628 - val_v_loss: 0.0210 - val_p_loss: 0.5418 - val_v_accuracy: 0.0054 - val_p_accuracy: 0.0000e+00\n",
      "Epoch 23/100\n",
      "51156/51156 [==============================] - 240s 5ms/step - loss: 0.5847 - v_loss: 0.0226 - p_loss: 0.5621 - v_accuracy: 0.0224 - p_accuracy: 2.5157e-04 - val_loss: 0.5647 - val_v_loss: 0.0204 - val_p_loss: 0.5443 - val_v_accuracy: 0.0146 - val_p_accuracy: 0.0000e+00\n",
      "Epoch 24/100\n",
      "51156/51156 [==============================] - 238s 5ms/step - loss: 0.5881 - v_loss: 0.0232 - p_loss: 0.5649 - v_accuracy: 0.0227 - p_accuracy: 1.5593e-04 - val_loss: 0.5634 - val_v_loss: 0.0208 - val_p_loss: 0.5426 - val_v_accuracy: 0.0059 - val_p_accuracy: 0.0000e+00\n",
      "\n",
      "Epoch 00024: ReduceLROnPlateau reducing learning rate to 0.001.\n",
      "Epoch 25/100\n",
      "51156/51156 [==============================] - 238s 5ms/step - loss: 0.5900 - v_loss: 0.0231 - p_loss: 0.5669 - v_accuracy: 0.0197 - p_accuracy: 1.0765e-04 - val_loss: 0.5594 - val_v_loss: 0.0185 - val_p_loss: 0.5409 - val_v_accuracy: 0.0250 - val_p_accuracy: 1.1403e-05\n",
      "Epoch 26/100\n",
      "51156/51156 [==============================] - 239s 5ms/step - loss: 0.5925 - v_loss: 0.0217 - p_loss: 0.5707 - v_accuracy: 0.0212 - p_accuracy: 1.4559e-04 - val_loss: 0.5639 - val_v_loss: 0.0199 - val_p_loss: 0.5439 - val_v_accuracy: 0.0231 - val_p_accuracy: 6.2717e-05\n",
      "Epoch 27/100\n",
      "51156/51156 [==============================] - 239s 5ms/step - loss: 0.5884 - v_loss: 0.0226 - p_loss: 0.5658 - v_accuracy: 0.0232 - p_accuracy: 5.9970e-05 - val_loss: 0.5610 - val_v_loss: 0.0180 - val_p_loss: 0.5430 - val_v_accuracy: 0.0106 - val_p_accuracy: 5.9866e-05\n",
      "\n",
      "Epoch 00027: ReduceLROnPlateau reducing learning rate to 0.001.\n",
      "Epoch 28/100\n"
     ]
    },
    {
     "name": "stdout",
     "output_type": "stream",
     "text": [
      "51156/51156 [==============================] - 238s 5ms/step - loss: 0.6013 - v_loss: 0.0214 - p_loss: 0.5799 - v_accuracy: 0.0231 - p_accuracy: 7.7938e-05 - val_loss: 0.5703 - val_v_loss: 0.0190 - val_p_loss: 0.5514 - val_v_accuracy: 0.0125 - val_p_accuracy: 2.8508e-06\n",
      "Epoch 29/100\n",
      "51156/51156 [==============================] - 240s 5ms/step - loss: 0.5988 - v_loss: 0.0220 - p_loss: 0.5768 - v_accuracy: 0.0214 - p_accuracy: 1.3116e-04 - val_loss: 0.5671 - val_v_loss: 0.0174 - val_p_loss: 0.5497 - val_v_accuracy: 0.0272 - val_p_accuracy: 0.0000e+00\n",
      "Epoch 30/100\n",
      "51156/51156 [==============================] - 235s 5ms/step - loss: 0.5945 - v_loss: 0.0224 - p_loss: 0.5721 - v_accuracy: 0.0230 - p_accuracy: 1.1905e-04 - val_loss: 0.5624 - val_v_loss: 0.0191 - val_p_loss: 0.5433 - val_v_accuracy: 0.0223 - val_p_accuracy: 0.0000e+00\n",
      "\n",
      "Epoch 00030: ReduceLROnPlateau reducing learning rate to 0.001.\n",
      "Epoch 31/100\n",
      "51156/51156 [==============================] - 226s 4ms/step - loss: 0.5861 - v_loss: 0.0220 - p_loss: 0.5641 - v_accuracy: 0.0244 - p_accuracy: 8.9185e-05 - val_loss: 0.5646 - val_v_loss: 0.0207 - val_p_loss: 0.5439 - val_v_accuracy: 0.0244 - val_p_accuracy: 0.0000e+00\n",
      "Epoch 32/100\n",
      "51156/51156 [==============================] - 229s 4ms/step - loss: 0.5838 - v_loss: 0.0222 - p_loss: 0.5616 - v_accuracy: 0.0241 - p_accuracy: 5.4030e-05 - val_loss: 0.5608 - val_v_loss: 0.0184 - val_p_loss: 0.5424 - val_v_accuracy: 0.0210 - val_p_accuracy: 0.0000e+00\n",
      "Epoch 33/100\n",
      "51156/51156 [==============================] - 233s 5ms/step - loss: 0.5834 - v_loss: 0.0219 - p_loss: 0.5614 - v_accuracy: 0.0243 - p_accuracy: 9.0623e-05 - val_loss: 0.5615 - val_v_loss: 0.0198 - val_p_loss: 0.5418 - val_v_accuracy: 0.0405 - val_p_accuracy: 2.8508e-06\n",
      "\n",
      "Epoch 00033: ReduceLROnPlateau reducing learning rate to 0.001.\n",
      "Epoch 34/100\n",
      "51156/51156 [==============================] - 230s 5ms/step - loss: 0.5840 - v_loss: 0.0220 - p_loss: 0.5621 - v_accuracy: 0.0284 - p_accuracy: 8.7192e-05 - val_loss: 0.5623 - val_v_loss: 0.0198 - val_p_loss: 0.5425 - val_v_accuracy: 0.0316 - val_p_accuracy: 0.0000e+00\n",
      "Epoch 35/100\n",
      "51156/51156 [==============================] - 232s 5ms/step - loss: 0.5839 - v_loss: 0.0218 - p_loss: 0.5620 - v_accuracy: 0.0276 - p_accuracy: 1.3092e-04 - val_loss: 0.5581 - val_v_loss: 0.0189 - val_p_loss: 0.5392 - val_v_accuracy: 0.0275 - val_p_accuracy: 0.0000e+00\n",
      "Epoch 36/100\n",
      "51156/51156 [==============================] - 228s 4ms/step - loss: 0.5888 - v_loss: 0.0241 - p_loss: 0.5648 - v_accuracy: 0.0304 - p_accuracy: 9.4014e-05 - val_loss: 0.5612 - val_v_loss: 0.0197 - val_p_loss: 0.5416 - val_v_accuracy: 0.0286 - val_p_accuracy: 0.0000e+00\n",
      "\n",
      "Epoch 00036: ReduceLROnPlateau reducing learning rate to 0.001.\n",
      "Epoch 37/100\n",
      "51156/51156 [==============================] - 236s 5ms/step - loss: 0.5896 - v_loss: 0.0242 - p_loss: 0.5654 - v_accuracy: 0.0293 - p_accuracy: 1.0685e-04 - val_loss: 0.5640 - val_v_loss: 0.0184 - val_p_loss: 0.5456 - val_v_accuracy: 0.0338 - val_p_accuracy: 0.0000e+00\n",
      "Epoch 38/100\n",
      "51156/51156 [==============================] - 232s 5ms/step - loss: 0.5894 - v_loss: 0.0240 - p_loss: 0.5654 - v_accuracy: 0.0317 - p_accuracy: 1.0629e-04 - val_loss: 0.5605 - val_v_loss: 0.0178 - val_p_loss: 0.5427 - val_v_accuracy: 0.0327 - val_p_accuracy: 0.0000e+00\n",
      "Epoch 39/100\n",
      "51156/51156 [==============================] - 238s 5ms/step - loss: 0.5852 - v_loss: 0.0230 - p_loss: 0.5622 - v_accuracy: 0.0300 - p_accuracy: 2.5803e-05 - val_loss: 0.5621 - val_v_loss: 0.0185 - val_p_loss: 0.5436 - val_v_accuracy: 0.0341 - val_p_accuracy: 2.8508e-06\n",
      "\n",
      "Epoch 00039: ReduceLROnPlateau reducing learning rate to 0.001.\n",
      "Epoch 40/100\n",
      "51156/51156 [==============================] - 239s 5ms/step - loss: 0.5872 - v_loss: 0.0226 - p_loss: 0.5646 - v_accuracy: 0.0312 - p_accuracy: 1.8623e-04 - val_loss: 0.5695 - val_v_loss: 0.0191 - val_p_loss: 0.5505 - val_v_accuracy: 0.0225 - val_p_accuracy: 5.7015e-06\n",
      "Epoch 41/100\n",
      "51156/51156 [==============================] - 238s 5ms/step - loss: 0.5905 - v_loss: 0.0230 - p_loss: 0.5675 - v_accuracy: 0.0250 - p_accuracy: 8.1450e-05 - val_loss: 0.5679 - val_v_loss: 0.0193 - val_p_loss: 0.5487 - val_v_accuracy: 0.0148 - val_p_accuracy: 5.7015e-06\n",
      "Epoch 42/100\n",
      "51156/51156 [==============================] - 236s 5ms/step - loss: 0.5889 - v_loss: 0.0221 - p_loss: 0.5668 - v_accuracy: 0.0263 - p_accuracy: 7.4326e-05 - val_loss: 0.5626 - val_v_loss: 0.0182 - val_p_loss: 0.5444 - val_v_accuracy: 0.0205 - val_p_accuracy: 0.0000e+00\n",
      "\n",
      "Epoch 00042: ReduceLROnPlateau reducing learning rate to 0.001.\n",
      "Epoch 43/100\n",
      "51156/51156 [==============================] - 235s 5ms/step - loss: 0.5859 - v_loss: 0.0221 - p_loss: 0.5637 - v_accuracy: 0.0293 - p_accuracy: 9.3160e-05 - val_loss: 0.5655 - val_v_loss: 0.0207 - val_p_loss: 0.5448 - val_v_accuracy: 0.0378 - val_p_accuracy: 0.0000e+00\n",
      "Epoch 44/100\n",
      "51156/51156 [==============================] - 240s 5ms/step - loss: 0.5886 - v_loss: 0.0235 - p_loss: 0.5651 - v_accuracy: 0.0289 - p_accuracy: 6.5858e-05 - val_loss: 0.5651 - val_v_loss: 0.0205 - val_p_loss: 0.5447 - val_v_accuracy: 0.0412 - val_p_accuracy: 0.0000e+00\n",
      "Epoch 45/100\n",
      "51156/51156 [==============================] - 235s 5ms/step - loss: 0.5890 - v_loss: 0.0240 - p_loss: 0.5650 - v_accuracy: 0.0327 - p_accuracy: 1.5424e-04 - val_loss: 0.5578 - val_v_loss: 0.0190 - val_p_loss: 0.5388 - val_v_accuracy: 0.0210 - val_p_accuracy: 0.0000e+00\n",
      "\n",
      "Epoch 00045: ReduceLROnPlateau reducing learning rate to 0.001.\n",
      "Epoch 46/100\n",
      "51156/51156 [==============================] - 238s 5ms/step - loss: 0.5855 - v_loss: 0.0232 - p_loss: 0.5624 - v_accuracy: 0.0311 - p_accuracy: 9.1076e-05 - val_loss: 0.5583 - val_v_loss: 0.0200 - val_p_loss: 0.5383 - val_v_accuracy: 0.0350 - val_p_accuracy: 0.0000e+00\n",
      "Epoch 47/100\n",
      "51156/51156 [==============================] - 238s 5ms/step - loss: 0.5864 - v_loss: 0.0238 - p_loss: 0.5626 - v_accuracy: 0.0319 - p_accuracy: 5.8633e-05 - val_loss: 0.5669 - val_v_loss: 0.0209 - val_p_loss: 0.5460 - val_v_accuracy: 0.0388 - val_p_accuracy: 0.0000e+00\n",
      "Epoch 48/100\n",
      "51156/51156 [==============================] - 234s 5ms/step - loss: 0.5917 - v_loss: 0.0249 - p_loss: 0.5668 - v_accuracy: 0.0313 - p_accuracy: 1.2719e-04 - val_loss: 0.5657 - val_v_loss: 0.0174 - val_p_loss: 0.5482 - val_v_accuracy: 0.0252 - val_p_accuracy: 0.0000e+00\n",
      "\n",
      "Epoch 00048: ReduceLROnPlateau reducing learning rate to 0.001.\n",
      "Epoch 49/100\n",
      "51156/51156 [==============================] - 239s 5ms/step - loss: 0.5894 - v_loss: 0.0229 - p_loss: 0.5665 - v_accuracy: 0.0325 - p_accuracy: 1.0130e-04 - val_loss: 0.5624 - val_v_loss: 0.0185 - val_p_loss: 0.5438 - val_v_accuracy: 0.0332 - val_p_accuracy: 0.0000e+00\n",
      "Epoch 50/100\n",
      "51156/51156 [==============================] - 235s 5ms/step - loss: 0.5897 - v_loss: 0.0240 - p_loss: 0.5657 - v_accuracy: 0.0321 - p_accuracy: 1.3406e-04 - val_loss: 0.5712 - val_v_loss: 0.0216 - val_p_loss: 0.5496 - val_v_accuracy: 0.0395 - val_p_accuracy: 0.0000e+00\n",
      "Epoch 51/100\n",
      "51156/51156 [==============================] - 241s 5ms/step - loss: 0.5916 - v_loss: 0.0248 - p_loss: 0.5668 - v_accuracy: 0.0345 - p_accuracy: 4.3721e-05 - val_loss: 0.5714 - val_v_loss: 0.0181 - val_p_loss: 0.5533 - val_v_accuracy: 0.0364 - val_p_accuracy: 0.0000e+00\n",
      "\n",
      "Epoch 00051: ReduceLROnPlateau reducing learning rate to 0.001.\n",
      "Epoch 52/100\n",
      "51156/51156 [==============================] - 241s 5ms/step - loss: 0.5913 - v_loss: 0.0232 - p_loss: 0.5681 - v_accuracy: 0.0357 - p_accuracy: 2.8038e-05 - val_loss: 0.5832 - val_v_loss: 0.0251 - val_p_loss: 0.5582 - val_v_accuracy: 0.0342 - val_p_accuracy: 0.0000e+00\n",
      "Epoch 53/100\n",
      "51156/51156 [==============================] - 239s 5ms/step - loss: 0.5947 - v_loss: 0.0257 - p_loss: 0.5690 - v_accuracy: 0.0372 - p_accuracy: 4.8065e-05 - val_loss: 0.5681 - val_v_loss: 0.0185 - val_p_loss: 0.5496 - val_v_accuracy: 0.0385 - val_p_accuracy: 0.0000e+00\n",
      "Epoch 54/100\n",
      "51156/51156 [==============================] - 239s 5ms/step - loss: 0.5911 - v_loss: 0.0256 - p_loss: 0.5655 - v_accuracy: 0.0381 - p_accuracy: 1.4868e-04 - val_loss: 0.5784 - val_v_loss: 0.0224 - val_p_loss: 0.5560 - val_v_accuracy: 0.0480 - val_p_accuracy: 2.8508e-06\n",
      "\n",
      "Epoch 00054: ReduceLROnPlateau reducing learning rate to 0.001.\n",
      "Epoch 55/100\n"
     ]
    },
    {
     "name": "stdout",
     "output_type": "stream",
     "text": [
      "51156/51156 [==============================] - 239s 5ms/step - loss: 0.5957 - v_loss: 0.0262 - p_loss: 0.5695 - v_accuracy: 0.0385 - p_accuracy: 6.0489e-05 - val_loss: 0.5700 - val_v_loss: 0.0209 - val_p_loss: 0.5491 - val_v_accuracy: 0.0467 - val_p_accuracy: 0.0000e+00\n",
      "Epoch 56/100\n",
      "51156/51156 [==============================] - 234s 5ms/step - loss: 0.5949 - v_loss: 0.0272 - p_loss: 0.5677 - v_accuracy: 0.0362 - p_accuracy: 6.5605e-05 - val_loss: 0.5751 - val_v_loss: 0.0218 - val_p_loss: 0.5533 - val_v_accuracy: 0.0542 - val_p_accuracy: 8.8373e-05\n",
      "Epoch 57/100\n",
      "51156/51156 [==============================] - 235s 5ms/step - loss: 0.5945 - v_loss: 0.0259 - p_loss: 0.5686 - v_accuracy: 0.0455 - p_accuracy: 1.1975e-04 - val_loss: 0.5674 - val_v_loss: 0.0196 - val_p_loss: 0.5478 - val_v_accuracy: 0.0495 - val_p_accuracy: 2.8508e-06\n",
      "\n",
      "Epoch 00057: ReduceLROnPlateau reducing learning rate to 0.001.\n",
      "Epoch 58/100\n",
      "51156/51156 [==============================] - 236s 5ms/step - loss: 0.5934 - v_loss: 0.0272 - p_loss: 0.5662 - v_accuracy: 0.0495 - p_accuracy: 1.0646e-04 - val_loss: 0.5676 - val_v_loss: 0.0202 - val_p_loss: 0.5474 - val_v_accuracy: 0.0411 - val_p_accuracy: 0.0000e+00\n",
      "Epoch 59/100\n",
      "51156/51156 [==============================] - 236s 5ms/step - loss: 0.5924 - v_loss: 0.0257 - p_loss: 0.5667 - v_accuracy: 0.0448 - p_accuracy: 9.4613e-05 - val_loss: 0.5673 - val_v_loss: 0.0206 - val_p_loss: 0.5467 - val_v_accuracy: 0.0389 - val_p_accuracy: 0.0000e+00\n",
      "Epoch 60/100\n",
      "51156/51156 [==============================] - 233s 5ms/step - loss: 0.5910 - v_loss: 0.0261 - p_loss: 0.5648 - v_accuracy: 0.0416 - p_accuracy: 6.0543e-05 - val_loss: 0.5719 - val_v_loss: 0.0241 - val_p_loss: 0.5479 - val_v_accuracy: 0.0506 - val_p_accuracy: 5.7015e-06\n",
      "\n",
      "Epoch 00060: ReduceLROnPlateau reducing learning rate to 0.001.\n",
      "Epoch 61/100\n",
      "51156/51156 [==============================] - 234s 5ms/step - loss: 0.5932 - v_loss: 0.0271 - p_loss: 0.5662 - v_accuracy: 0.0436 - p_accuracy: 5.2751e-05 - val_loss: 0.5776 - val_v_loss: 0.0238 - val_p_loss: 0.5538 - val_v_accuracy: 0.0482 - val_p_accuracy: 8.5523e-06\n",
      "Epoch 62/100\n",
      "51156/51156 [==============================] - 233s 5ms/step - loss: 0.5958 - v_loss: 0.0278 - p_loss: 0.5681 - v_accuracy: 0.0384 - p_accuracy: 1.6998e-04 - val_loss: 0.5721 - val_v_loss: 0.0237 - val_p_loss: 0.5485 - val_v_accuracy: 0.0334 - val_p_accuracy: 0.0000e+00\n",
      "Epoch 63/100\n",
      "51156/51156 [==============================] - 237s 5ms/step - loss: 0.5939 - v_loss: 0.0259 - p_loss: 0.5680 - v_accuracy: 0.0454 - p_accuracy: 8.8229e-05 - val_loss: 0.5702 - val_v_loss: 0.0195 - val_p_loss: 0.5507 - val_v_accuracy: 0.0552 - val_p_accuracy: 0.0000e+00\n",
      "\n",
      "Epoch 00063: ReduceLROnPlateau reducing learning rate to 0.001.\n",
      "Epoch 64/100\n",
      "51156/51156 [==============================] - 236s 5ms/step - loss: 0.5913 - v_loss: 0.0252 - p_loss: 0.5661 - v_accuracy: 0.0445 - p_accuracy: 1.0668e-04 - val_loss: 0.5635 - val_v_loss: 0.0212 - val_p_loss: 0.5423 - val_v_accuracy: 0.0347 - val_p_accuracy: 0.0000e+00\n",
      "Epoch 65/100\n",
      "51156/51156 [==============================] - 234s 5ms/step - loss: 0.5942 - v_loss: 0.0271 - p_loss: 0.5672 - v_accuracy: 0.0399 - p_accuracy: 8.3242e-05 - val_loss: 0.5641 - val_v_loss: 0.0205 - val_p_loss: 0.5436 - val_v_accuracy: 0.0462 - val_p_accuracy: 8.5523e-06\n",
      "Epoch 66/100\n",
      "51156/51156 [==============================] - 237s 5ms/step - loss: 0.5908 - v_loss: 0.0263 - p_loss: 0.5646 - v_accuracy: 0.0424 - p_accuracy: 9.7843e-05 - val_loss: 0.5616 - val_v_loss: 0.0200 - val_p_loss: 0.5416 - val_v_accuracy: 0.0413 - val_p_accuracy: 8.5523e-06\n",
      "\n",
      "Epoch 00066: ReduceLROnPlateau reducing learning rate to 0.001.\n",
      "Epoch 67/100\n",
      "51156/51156 [==============================] - 236s 5ms/step - loss: 0.5951 - v_loss: 0.0269 - p_loss: 0.5682 - v_accuracy: 0.0400 - p_accuracy: 7.2746e-05 - val_loss: 0.5669 - val_v_loss: 0.0203 - val_p_loss: 0.5467 - val_v_accuracy: 0.0504 - val_p_accuracy: 1.1403e-05\n",
      "Epoch 68/100\n",
      "51156/51156 [==============================] - 237s 5ms/step - loss: 0.5941 - v_loss: 0.0282 - p_loss: 0.5659 - v_accuracy: 0.0402 - p_accuracy: 1.9862e-04 - val_loss: 0.5784 - val_v_loss: 0.0214 - val_p_loss: 0.5571 - val_v_accuracy: 0.0402 - val_p_accuracy: 0.0000e+00\n",
      "Epoch 69/100\n",
      "51156/51156 [==============================] - 237s 5ms/step - loss: 0.5978 - v_loss: 0.0256 - p_loss: 0.5723 - v_accuracy: 0.0411 - p_accuracy: 9.9504e-05 - val_loss: 0.5805 - val_v_loss: 0.0184 - val_p_loss: 0.5621 - val_v_accuracy: 0.0477 - val_p_accuracy: 3.7060e-05\n",
      "\n",
      "Epoch 00069: ReduceLROnPlateau reducing learning rate to 0.001.\n",
      "Epoch 70/100\n",
      "51156/51156 [==============================] - 241s 5ms/step - loss: 0.6036 - v_loss: 0.0251 - p_loss: 0.5785 - v_accuracy: 0.0434 - p_accuracy: 7.8739e-05 - val_loss: 0.5931 - val_v_loss: 0.0195 - val_p_loss: 0.5736 - val_v_accuracy: 0.0459 - val_p_accuracy: 0.0000e+00\n",
      "Epoch 71/100\n",
      "51156/51156 [==============================] - 237s 5ms/step - loss: 0.6107 - v_loss: 0.0253 - p_loss: 0.5853 - v_accuracy: 0.0487 - p_accuracy: 4.4768e-05 - val_loss: 0.6033 - val_v_loss: 0.0205 - val_p_loss: 0.5828 - val_v_accuracy: 0.0531 - val_p_accuracy: 0.0000e+00\n",
      "Epoch 72/100\n",
      "51156/51156 [==============================] - 240s 5ms/step - loss: 0.6082 - v_loss: 0.0248 - p_loss: 0.5834 - v_accuracy: 0.0585 - p_accuracy: 1.2128e-04 - val_loss: 0.6063 - val_v_loss: 0.0200 - val_p_loss: 0.5862 - val_v_accuracy: 0.0509 - val_p_accuracy: 6.8418e-05\n",
      "\n",
      "Epoch 00072: ReduceLROnPlateau reducing learning rate to 0.001.\n",
      "Epoch 73/100\n",
      "51156/51156 [==============================] - 239s 5ms/step - loss: 0.6133 - v_loss: 0.0244 - p_loss: 0.5889 - v_accuracy: 0.0617 - p_accuracy: 1.7761e-04 - val_loss: 0.6140 - val_v_loss: 0.0212 - val_p_loss: 0.5928 - val_v_accuracy: 0.0811 - val_p_accuracy: 7.6970e-05\n",
      "Epoch 74/100\n",
      "51156/51156 [==============================] - 237s 5ms/step - loss: 0.6159 - v_loss: 0.0252 - p_loss: 0.5907 - v_accuracy: 0.0570 - p_accuracy: 1.0566e-04 - val_loss: 0.6176 - val_v_loss: 0.0220 - val_p_loss: 0.5956 - val_v_accuracy: 0.0504 - val_p_accuracy: 5.7015e-06\n",
      "Epoch 75/100\n",
      "51156/51156 [==============================] - 242s 5ms/step - loss: 0.6154 - v_loss: 0.0267 - p_loss: 0.5887 - v_accuracy: 0.0560 - p_accuracy: 1.8479e-04 - val_loss: 0.6024 - val_v_loss: 0.0227 - val_p_loss: 0.5797 - val_v_accuracy: 0.0504 - val_p_accuracy: 0.0000e+00\n",
      "\n",
      "Epoch 00075: ReduceLROnPlateau reducing learning rate to 0.001.\n",
      "Epoch 76/100\n",
      "51156/51156 [==============================] - 237s 5ms/step - loss: 0.6113 - v_loss: 0.0267 - p_loss: 0.5846 - v_accuracy: 0.0548 - p_accuracy: 1.2053e-04 - val_loss: 0.6031 - val_v_loss: 0.0262 - val_p_loss: 0.5770 - val_v_accuracy: 0.0465 - val_p_accuracy: 2.8508e-06\n",
      "Epoch 77/100\n",
      "51156/51156 [==============================] - 237s 5ms/step - loss: 0.6158 - v_loss: 0.0297 - p_loss: 0.5861 - v_accuracy: 0.0467 - p_accuracy: 1.1869e-04 - val_loss: 0.5973 - val_v_loss: 0.0222 - val_p_loss: 0.5752 - val_v_accuracy: 0.0334 - val_p_accuracy: 8.5523e-06\n",
      "Epoch 78/100\n",
      "51156/51156 [==============================] - 239s 5ms/step - loss: 0.6128 - v_loss: 0.0291 - p_loss: 0.5837 - v_accuracy: 0.0433 - p_accuracy: 1.7216e-04 - val_loss: 0.6009 - val_v_loss: 0.0241 - val_p_loss: 0.5768 - val_v_accuracy: 0.0509 - val_p_accuracy: 2.2806e-05\n",
      "\n",
      "Epoch 00078: ReduceLROnPlateau reducing learning rate to 0.001.\n",
      "Epoch 79/100\n",
      "51156/51156 [==============================] - 237s 5ms/step - loss: 0.6149 - v_loss: 0.0299 - p_loss: 0.5850 - v_accuracy: 0.0413 - p_accuracy: 1.4055e-04 - val_loss: 0.6009 - val_v_loss: 0.0243 - val_p_loss: 0.5767 - val_v_accuracy: 0.0410 - val_p_accuracy: 3.7060e-05\n",
      "Epoch 80/100\n",
      "51156/51156 [==============================] - 241s 5ms/step - loss: 0.6117 - v_loss: 0.0306 - p_loss: 0.5811 - v_accuracy: 0.0424 - p_accuracy: 1.9257e-04 - val_loss: 0.5680 - val_v_loss: 0.0225 - val_p_loss: 0.5455 - val_v_accuracy: 0.0366 - val_p_accuracy: 2.2806e-05\n",
      "Epoch 81/100\n",
      "51156/51156 [==============================] - 236s 5ms/step - loss: 0.5953 - v_loss: 0.0292 - p_loss: 0.5661 - v_accuracy: 0.0433 - p_accuracy: 1.3614e-04 - val_loss: 0.5651 - val_v_loss: 0.0240 - val_p_loss: 0.5411 - val_v_accuracy: 0.0371 - val_p_accuracy: 5.7015e-06\n",
      "\n",
      "Epoch 00081: ReduceLROnPlateau reducing learning rate to 0.001.\n",
      "Epoch 82/100\n"
     ]
    },
    {
     "name": "stdout",
     "output_type": "stream",
     "text": [
      "51156/51156 [==============================] - 241s 5ms/step - loss: 0.5937 - v_loss: 0.0293 - p_loss: 0.5644 - v_accuracy: 0.0364 - p_accuracy: 7.2230e-05 - val_loss: 0.5695 - val_v_loss: 0.0213 - val_p_loss: 0.5481 - val_v_accuracy: 0.0238 - val_p_accuracy: 5.7015e-06\n",
      "Epoch 83/100\n",
      "51156/51156 [==============================] - 238s 5ms/step - loss: 0.5956 - v_loss: 0.0294 - p_loss: 0.5662 - v_accuracy: 0.0340 - p_accuracy: 1.4694e-04 - val_loss: 0.5677 - val_v_loss: 0.0240 - val_p_loss: 0.5437 - val_v_accuracy: 0.0273 - val_p_accuracy: 5.7015e-06\n",
      "Epoch 84/100\n",
      "51156/51156 [==============================] - 243s 5ms/step - loss: 0.5963 - v_loss: 0.0306 - p_loss: 0.5657 - v_accuracy: 0.0342 - p_accuracy: 1.7378e-04 - val_loss: 0.5677 - val_v_loss: 0.0215 - val_p_loss: 0.5463 - val_v_accuracy: 0.0294 - val_p_accuracy: 2.8508e-06\n",
      "\n",
      "Epoch 00084: ReduceLROnPlateau reducing learning rate to 0.001.\n",
      "Epoch 85/100\n",
      "51156/51156 [==============================] - 237s 5ms/step - loss: 0.5947 - v_loss: 0.0265 - p_loss: 0.5682 - v_accuracy: 0.0476 - p_accuracy: 7.3401e-05 - val_loss: 0.5659 - val_v_loss: 0.0210 - val_p_loss: 0.5449 - val_v_accuracy: 0.0416 - val_p_accuracy: 1.9955e-05\n",
      "Epoch 86/100\n",
      "51156/51156 [==============================] - 235s 5ms/step - loss: 0.5916 - v_loss: 0.0245 - p_loss: 0.5671 - v_accuracy: 0.0412 - p_accuracy: 1.0593e-04 - val_loss: 0.5673 - val_v_loss: 0.0214 - val_p_loss: 0.5459 - val_v_accuracy: 0.0292 - val_p_accuracy: 0.0000e+00\n",
      "Epoch 87/100\n",
      "51156/51156 [==============================] - 241s 5ms/step - loss: 0.5926 - v_loss: 0.0255 - p_loss: 0.5672 - v_accuracy: 0.0393 - p_accuracy: 6.3503e-05 - val_loss: 0.5763 - val_v_loss: 0.0273 - val_p_loss: 0.5489 - val_v_accuracy: 0.0353 - val_p_accuracy: 2.5657e-05\n",
      "\n",
      "Epoch 00087: ReduceLROnPlateau reducing learning rate to 0.001.\n",
      "Epoch 88/100\n",
      "51156/51156 [==============================] - 233s 5ms/step - loss: 0.5985 - v_loss: 0.0279 - p_loss: 0.5706 - v_accuracy: 0.0318 - p_accuracy: 1.6361e-04 - val_loss: 0.5745 - val_v_loss: 0.0275 - val_p_loss: 0.5470 - val_v_accuracy: 0.0391 - val_p_accuracy: 0.0000e+00\n",
      "Epoch 89/100\n",
      "51156/51156 [==============================] - 238s 5ms/step - loss: 0.5975 - v_loss: 0.0286 - p_loss: 0.5688 - v_accuracy: 0.0347 - p_accuracy: 2.2649e-04 - val_loss: 0.5824 - val_v_loss: 0.0316 - val_p_loss: 0.5507 - val_v_accuracy: 0.0359 - val_p_accuracy: 0.0000e+00\n",
      "Epoch 90/100\n",
      "51156/51156 [==============================] - 236s 5ms/step - loss: 0.5998 - v_loss: 0.0289 - p_loss: 0.5709 - v_accuracy: 0.0432 - p_accuracy: 1.4508e-04 - val_loss: 0.5827 - val_v_loss: 0.0304 - val_p_loss: 0.5524 - val_v_accuracy: 0.0337 - val_p_accuracy: 0.0000e+00\n",
      "\n",
      "Epoch 00090: ReduceLROnPlateau reducing learning rate to 0.001.\n",
      "Epoch 91/100\n",
      "51156/51156 [==============================] - 236s 5ms/step - loss: 0.6024 - v_loss: 0.0314 - p_loss: 0.5710 - v_accuracy: 0.0372 - p_accuracy: 5.8084e-05 - val_loss: 0.5809 - val_v_loss: 0.0288 - val_p_loss: 0.5520 - val_v_accuracy: 0.0331 - val_p_accuracy: 0.0000e+00\n",
      "Epoch 92/100\n",
      "51156/51156 [==============================] - 236s 5ms/step - loss: 0.6074 - v_loss: 0.0346 - p_loss: 0.5727 - v_accuracy: 0.0272 - p_accuracy: 7.9424e-05 - val_loss: 0.5906 - val_v_loss: 0.0327 - val_p_loss: 0.5579 - val_v_accuracy: 0.0367 - val_p_accuracy: 3.4209e-05\n",
      "Epoch 93/100\n",
      "51156/51156 [==============================] - 241s 5ms/step - loss: 0.6122 - v_loss: 0.0344 - p_loss: 0.5778 - v_accuracy: 0.0255 - p_accuracy: 1.6644e-04 - val_loss: 0.5890 - val_v_loss: 0.0339 - val_p_loss: 0.5551 - val_v_accuracy: 0.0278 - val_p_accuracy: 1.7105e-05\n",
      "\n",
      "Epoch 00093: ReduceLROnPlateau reducing learning rate to 0.001.\n",
      "Epoch 94/100\n",
      "51156/51156 [==============================] - 239s 5ms/step - loss: 0.6171 - v_loss: 0.0367 - p_loss: 0.5803 - v_accuracy: 0.0222 - p_accuracy: 1.9595e-04 - val_loss: 0.5885 - val_v_loss: 0.0283 - val_p_loss: 0.5602 - val_v_accuracy: 0.0399 - val_p_accuracy: 0.0000e+00\n",
      "Epoch 95/100\n",
      "51156/51156 [==============================] - 238s 5ms/step - loss: 0.6130 - v_loss: 0.0333 - p_loss: 0.5796 - v_accuracy: 0.0252 - p_accuracy: 5.9828e-05 - val_loss: 0.5923 - val_v_loss: 0.0301 - val_p_loss: 0.5622 - val_v_accuracy: 0.0354 - val_p_accuracy: 1.9955e-05\n",
      "Epoch 96/100\n",
      "51156/51156 [==============================] - 239s 5ms/step - loss: 0.6151 - v_loss: 0.0349 - p_loss: 0.5803 - v_accuracy: 0.0229 - p_accuracy: 1.7476e-04 - val_loss: 0.5923 - val_v_loss: 0.0321 - val_p_loss: 0.5602 - val_v_accuracy: 0.0187 - val_p_accuracy: 0.0000e+00\n",
      "\n",
      "Epoch 00096: ReduceLROnPlateau reducing learning rate to 0.001.\n",
      "Epoch 97/100\n",
      "51156/51156 [==============================] - 236s 5ms/step - loss: 0.6158 - v_loss: 0.0356 - p_loss: 0.5802 - v_accuracy: 0.0215 - p_accuracy: 1.9156e-04 - val_loss: 0.5919 - val_v_loss: 0.0348 - val_p_loss: 0.5571 - val_v_accuracy: 0.0216 - val_p_accuracy: 1.4254e-05\n",
      "Epoch 98/100\n",
      "51156/51156 [==============================] - 238s 5ms/step - loss: 0.6149 - v_loss: 0.0370 - p_loss: 0.5779 - v_accuracy: 0.0207 - p_accuracy: 1.6395e-04 - val_loss: 0.5913 - val_v_loss: 0.0317 - val_p_loss: 0.5596 - val_v_accuracy: 0.0121 - val_p_accuracy: 1.7105e-05\n",
      "Epoch 99/100\n",
      "51156/51156 [==============================] - 235s 5ms/step - loss: 0.6169 - v_loss: 0.0386 - p_loss: 0.5783 - v_accuracy: 0.0177 - p_accuracy: 2.1359e-04 - val_loss: 0.5926 - val_v_loss: 0.0307 - val_p_loss: 0.5619 - val_v_accuracy: 0.0125 - val_p_accuracy: 4.2761e-05\n",
      "\n",
      "Epoch 00099: ReduceLROnPlateau reducing learning rate to 0.001.\n",
      "Epoch 100/100\n",
      "51156/51156 [==============================] - 240s 5ms/step - loss: 0.6189 - v_loss: 0.0391 - p_loss: 0.5798 - v_accuracy: 0.0177 - p_accuracy: 2.1939e-04 - val_loss: 0.6069 - val_v_loss: 0.0401 - val_p_loss: 0.5668 - val_v_accuracy: 0.0226 - val_p_accuracy: 4.8748e-04\n"
     ]
    }
   ],
   "source": [
    "reduce_lr = tf.keras.callbacks.ReduceLROnPlateau(monitor='val_loss', factor=0.2,\n",
    "                              patience=3, min_lr=0.001,verbose=1)\n",
    "model.load_weights('robot_reboot_model/model_0/')\n",
    "losses = {\n",
    "    \"v\": 'mean_squared_error',\n",
    "    \"p\": tf.keras.losses.BinaryCrossentropy()\n",
    "}\n",
    "optimizer = tf.keras.optimizers.Adam(learning_rate=0.001)\n",
    "model.compile(loss=losses, optimizer=optimizer,metrics=[tf.keras.metrics.Accuracy()])\n",
    "h = model.fit(train_ds, epochs=100, validation_data=valid_ds, callbacks=[reduce_lr])"
   ]
  },
  {
   "cell_type": "code",
   "execution_count": 17,
   "id": "central-cleaning",
   "metadata": {},
   "outputs": [
    {
     "data": {
      "image/png": "[encoded data removed]",
      "text/plain": [
       "<Figure size 432x288 with 1 Axes>"
      ]
     },
     "metadata": {
      "needs_background": "light"
     },
     "output_type": "display_data"
    }
   ],
   "source": [
    "show(h)"
   ]
  },
  {
   "cell_type": "code",
   "execution_count": null,
   "id": "oriental-wayne",
   "metadata": {},
   "outputs": [],
   "source": [
    "model.load_weights('robot_reboot_model/model_0/')\n",
    "reduce_lr = tf.keras.callbacks.ReduceLROnPlateau(monitor='val_loss', factor=0.2,\n",
    "                              patience=5, min_lr=0.001)\n",
    "losses = {\n",
    "    \"v\": 'mean_squared_error',\n",
    "    \"p\": tf.keras.losses.BinaryCrossentropy()\n",
    "}\n",
    "optimizer = tf.keras.optimizers.Adam(learning_rate=0.0026557128461762386)\n",
    "model.compile(loss=losses, optimizer=optimizer, metrics=[tf.keras.metrics.Accuracy()])\n",
    "h = model.fit(train_ds, epochs=20, validation_data=valid_ds, callbacks=[reduce_lr])"
   ]
  },
  {
   "cell_type": "code",
   "execution_count": null,
   "id": "patient-directive",
   "metadata": {},
   "outputs": [],
   "source": [
    "show(h)"
   ]
  },
  {
   "cell_type": "code",
   "execution_count": null,
   "id": "prerequisite-synthetic",
   "metadata": {},
   "outputs": [],
   "source": [
    "show_acc(h)"
   ]
  },
  {
   "cell_type": "code",
   "execution_count": null,
   "id": "subject-ownership",
   "metadata": {},
   "outputs": [],
   "source": [
    "\n",
    "reduce_lr = tf.keras.callbacks.ReduceLROnPlateau(monitor='val_loss', factor=0.2,\n",
    "                              patience=5, min_lr=0.001, verbose=1)\n",
    "\n",
    "h = model.fit(train_ds, epochs=50, validation_data=valid_ds, callbacks=[reduce_lr])"
   ]
  },
  {
   "cell_type": "code",
   "execution_count": null,
   "id": "leading-blade",
   "metadata": {},
   "outputs": [],
   "source": [
    "show(h)"
   ]
  },
  {
   "cell_type": "code",
   "execution_count": null,
   "id": "broadband-fifty",
   "metadata": {},
   "outputs": [],
   "source": [
    "h = model.fit(train_ds, epochs=20, validation_data=valid_ds, callbacks=[reduce_lr])"
   ]
  },
  {
   "cell_type": "code",
   "execution_count": null,
   "id": "native-location",
   "metadata": {},
   "outputs": [],
   "source": [
    "show(h)"
   ]
  },
  {
   "cell_type": "code",
   "execution_count": null,
   "id": "regulation-charter",
   "metadata": {},
   "outputs": [],
   "source": [
    "\n",
    "reduce_lr = tf.keras.callbacks.ReduceLROnPlateau(monitor='val_loss', factor=0.2,\n",
    "                              patience=5, min_lr=0.001, versbose=1)\n",
    "\n",
    "h = model.fit(train_ds, epochs=20, validation_data=valid_ds, callbacks=[reduce_lr])"
   ]
  },
  {
   "cell_type": "code",
   "execution_count": null,
   "id": "downtown-march",
   "metadata": {},
   "outputs": [],
   "source": [
    "show(h)"
   ]
  },
  {
   "cell_type": "code",
   "execution_count": null,
   "id": "wanted-recycling",
   "metadata": {},
   "outputs": [],
   "source": [
    "model.load_weights('robot_reboot_model/model_0/')\n",
    "reduce_lr = tf.keras.callbacks.ReduceLROnPlateau(monitor='val_loss', factor=0.1,\n",
    "                              patience=3, min_lr=0.0001, min_delta=0.00001,)\n",
    "losses = {\n",
    "    \"v\": 'mean_squared_error',\n",
    "    \"p\": tf.keras.losses.BinaryCrossentropy()\n",
    "}\n",
    "optimizer = tf.keras.optimizers.Adam(learning_rate=0.0026557128461762386)\n",
    "model.compile(loss=losses, optimizer=optimizer, metrics=[tf.keras.metrics.Accuracy()])\n",
    "h = model.fit(train_ds, epochs=20, validation_data=valid_ds, callbacks=[reduce_lr])"
   ]
  },
  {
   "cell_type": "code",
   "execution_count": null,
   "id": "deluxe-class",
   "metadata": {},
   "outputs": [],
   "source": [
    "show_accuracy(h)"
   ]
  },
  {
   "cell_type": "code",
   "execution_count": null,
   "id": "based-staff",
   "metadata": {},
   "outputs": [],
   "source": [
    "show(h)"
   ]
  },
  {
   "cell_type": "code",
   "execution_count": null,
   "id": "generic-marina",
   "metadata": {},
   "outputs": [],
   "source": [
    "model.load_weights('robot_reboot_model/model_0/')\n",
    "reduce_lr = tf.keras.callbacks.ReduceLROnPlateau(monitor='val_loss', factor=0.1,\n",
    "                              patience=3, min_lr=0.0001, min_delta=0.00001,)\n",
    "losses = {\n",
    "    \"v\": 'mean_squared_error',\n",
    "    \"p\": tf.keras.losses.BinaryCrossentropy()\n",
    "}\n",
    "optimizer = tf.keras.optimizers.RMSprop(learning_rate=0.01)\n",
    "model.compile(loss=losses, optimizer=optimizer, metrics=[tf.keras.metrics.Accuracy()])\n",
    "h = model.fit(train_ds, epochs=20, validation_data=valid_ds, callbacks=[reduce_lr])"
   ]
  },
  {
   "cell_type": "code",
   "execution_count": null,
   "id": "monetary-variance",
   "metadata": {},
   "outputs": [],
   "source": [
    "show_accuracy(h)"
   ]
  },
  {
   "cell_type": "code",
   "execution_count": null,
   "id": "apparent-project",
   "metadata": {},
   "outputs": [],
   "source": [
    "show(h)"
   ]
  },
  {
   "cell_type": "code",
   "execution_count": null,
   "id": "personalized-meditation",
   "metadata": {},
   "outputs": [],
   "source": [
    "SHUFFLE_BUFFER_SIZE = 1000\n",
    "def _input(epochs, filenames):\n",
    "\n",
    "    dataset = tf.data.TFRecordDataset(filenames)\n",
    "    dataset = dataset.map(read_tfrecord, num_parallel_calls=20)\n",
    "\n",
    "    dataset = dataset.repeat(epochs)\n",
    "    dataset = dataset.shuffle(SHUFFLE_BUFFER_SIZE).prefetch(1)\n",
    "\n",
    "    return dataset"
   ]
  },
  {
   "cell_type": "code",
   "execution_count": null,
   "id": "after-reservoir",
   "metadata": {},
   "outputs": [],
   "source": [
    "train_ds = _input(20, ['robot_reboot_data/train.tfrecords'])\n",
    "valid_ds = _input(20, ['robot_reboot_data/validation.tfrecords'])"
   ]
  },
  {
   "cell_type": "code",
   "execution_count": null,
   "id": "pressing-courage",
   "metadata": {},
   "outputs": [],
   "source": [
    "model.load_weights('robot_reboot_model/model_0/')\n",
    "reduce_lr = tf.keras.callbacks.ReduceLROnPlateau(monitor='val_loss', factor=0.1,\n",
    "                              patience=3, min_lr=0.0001, min_delta=0.00001,)\n",
    "losses = {\n",
    "    \"v\": 'mean_squared_error',\n",
    "    \"p\": tf.keras.losses.BinaryCrossentropy()\n",
    "}\n",
    "optimizer = tf.keras.optimizers.RMSprop(learning_rate=0.01)\n",
    "model.compile(loss=losses, optimizer=optimizer, metrics=[tf.keras.metrics.Accuracy()])\n",
    "h = model.fit(train_ds, epochs=20, validation_data=valid_ds, callbacks=[reduce_lr])"
   ]
  },
  {
   "cell_type": "code",
   "execution_count": null,
   "id": "occupational-control",
   "metadata": {},
   "outputs": [],
   "source": [
    "show_accuracy(h)"
   ]
  },
  {
   "cell_type": "code",
   "execution_count": null,
   "id": "increased-vatican",
   "metadata": {},
   "outputs": [],
   "source": [
    "show(h)"
   ]
  },
  {
   "cell_type": "code",
   "execution_count": null,
   "id": "critical-cancellation",
   "metadata": {},
   "outputs": [],
   "source": [
    "SHUFFLE_BUFFER_SIZE = 10000\n",
    "def _input(epochs, filenames):\n",
    "\n",
    "    dataset = tf.data.TFRecordDataset(filenames)\n",
    "    dataset = dataset.map(read_tfrecord, num_parallel_calls=20)\n",
    "\n",
    "#     dataset = dataset.repeat(epochs)\n",
    "    dataset = dataset.shuffle(SHUFFLE_BUFFER_SIZE).prefetch(1)\n",
    "\n",
    "    return dataset\n",
    "\n",
    "train_ds = _input(20, ['robot_reboot_data/train.tfrecords'])\n",
    "valid_ds = _input(20, ['robot_reboot_data/validation.tfrecords'])\n",
    "model.load_weights('robot_reboot_model/model_0/')\n",
    "\n",
    "reduce_lr = tf.keras.callbacks.ReduceLROnPlateau(monitor='val_loss', factor=0.0001,\n",
    "                              patience=3, min_lr=0.00001, min_delta=0.00001,)\n",
    "\n",
    "optimizer = tf.keras.optimizers.RMSprop(learning_rate=0.0006627064625413489)\n",
    "\n",
    "model.compile(loss=losses, optimizer=optimizer, \n",
    "              metrics={\n",
    "                  'p':tf.keras.metrics.CategoricalAccuracy(),\n",
    "                  'v': tf.keras.metrics.Accuracy()\n",
    "              })\n",
    "h = model.fit(train_ds, epochs=20, validation_data=valid_ds, callbacks=[reduce_lr])"
   ]
  },
  {
   "cell_type": "code",
   "execution_count": null,
   "id": "handy-contest",
   "metadata": {},
   "outputs": [],
   "source": [
    "def show_accuracy(history):\n",
    "    plt.plot(history.history['val_p_categorical_accuracy'])\n",
    "    plt.plot(history.history['val_v_accuracy'])\n",
    "    plt.title('model accuracy')\n",
    "    plt.ylabel('accuracy')\n",
    "    plt.xlabel('epoch')\n",
    "    plt.legend(['train', 'val'], loc='upper left')\n",
    "    plt.show()"
   ]
  },
  {
   "cell_type": "code",
   "execution_count": null,
   "id": "supported-difficulty",
   "metadata": {},
   "outputs": [],
   "source": [
    "show_accuracy(h)"
   ]
  },
  {
   "cell_type": "code",
   "execution_count": null,
   "id": "twenty-small",
   "metadata": {},
   "outputs": [],
   "source": [
    "show(h)"
   ]
  },
  {
   "cell_type": "code",
   "execution_count": null,
   "id": "presidential-withdrawal",
   "metadata": {},
   "outputs": [],
   "source": [
    "h = model.fit(train_ds, epochs=20, validation_data=valid_ds, callbacks=[reduce_lr])"
   ]
  },
  {
   "cell_type": "code",
   "execution_count": null,
   "id": "pharmaceutical-diagnosis",
   "metadata": {},
   "outputs": [],
   "source": [
    "show(h)"
   ]
  },
  {
   "cell_type": "code",
   "execution_count": null,
   "id": "material-sample",
   "metadata": {},
   "outputs": [],
   "source": [
    "reduce_lr = tf.keras.callbacks.ReduceLROnPlateau(monitor='val_loss', factor=0.00001,\n",
    "                              patience=2, min_lr=0.000001, min_delta=0.00001,)\n",
    "\n",
    "optimizer = tf.keras.optimizers.RMSprop(learning_rate=0.0006627064625413489)\n",
    "\n",
    "model.compile(loss=losses, optimizer=optimizer, \n",
    "              metrics={\n",
    "                  'p':tf.keras.metrics.CategoricalAccuracy(),\n",
    "                  'v': tf.keras.metrics.Accuracy()\n",
    "              })\n",
    "h = model.fit(train_ds, epochs=20, validation_data=valid_ds, callbacks=[reduce_lr])"
   ]
  },
  {
   "cell_type": "code",
   "execution_count": null,
   "id": "eight-maximum",
   "metadata": {},
   "outputs": [],
   "source": [
    "show(h)"
   ]
  },
  {
   "cell_type": "code",
   "execution_count": null,
   "id": "wanted-precipitation",
   "metadata": {},
   "outputs": [],
   "source": [
    "reduce_lr = tf.keras.callbacks.ReduceLROnPlateau(monitor='val_loss', factor=0.001,\n",
    "                              patience=2, min_lr=0.000001, min_delta=0.00001,)\n",
    "\n",
    "optimizer = tf.keras.optimizers.RMSprop(learning_rate=0.0002)\n",
    "model.load_weights('robot_reboot_model/model_0/')\n",
    "\n",
    "model.compile(loss=losses, optimizer=optimizer, \n",
    "              metrics={\n",
    "                  'p':tf.keras.metrics.CategoricalAccuracy(),\n",
    "                  'v': tf.keras.metrics.Accuracy()\n",
    "              })\n",
    "h = model.fit(train_ds, epochs=20, validation_data=valid_ds, callbacks=[reduce_lr])"
   ]
  },
  {
   "cell_type": "code",
   "execution_count": null,
   "id": "coordinate-avatar",
   "metadata": {},
   "outputs": [],
   "source": [
    "show(h)"
   ]
  },
  {
   "cell_type": "code",
   "execution_count": null,
   "id": "aggressive-eleven",
   "metadata": {},
   "outputs": [],
   "source": [
    "optimizer = tf.keras.optimizers.RMSprop(learning_rate=0.001)\n",
    "\n",
    "reduce_lr = tf.keras.callbacks.ReduceLROnPlateau(monitor='val_loss', factor=0.00001,\n",
    "                              patience=2, min_lr=0.000001, min_delta=0.00001,)\n",
    "\n",
    "model.load_weights('robot_reboot_model/model_0/')\n",
    "\n",
    "model.compile(loss=losses, optimizer=optimizer, \n",
    "              metrics={\n",
    "                  'p':tf.keras.metrics.CategoricalAccuracy(),\n",
    "                  'v': tf.keras.metrics.Accuracy()\n",
    "              })\n",
    "h = model.fit(train_ds, epochs=20, validation_data=valid_ds, callbacks=[reduce_lr])"
   ]
  },
  {
   "cell_type": "code",
   "execution_count": null,
   "id": "varying-station",
   "metadata": {},
   "outputs": [],
   "source": [
    "show(h)"
   ]
  },
  {
   "cell_type": "code",
   "execution_count": null,
   "id": "frequent-wesley",
   "metadata": {},
   "outputs": [],
   "source": [
    "h = model.fit(train_ds, epochs=20, validation_data=valid_ds, callbacks=[reduce_lr])"
   ]
  },
  {
   "cell_type": "code",
   "execution_count": null,
   "id": "offensive-retreat",
   "metadata": {},
   "outputs": [],
   "source": [
    "show(h)"
   ]
  },
  {
   "cell_type": "code",
   "execution_count": null,
   "id": "respective-silence",
   "metadata": {},
   "outputs": [],
   "source": [
    "optimizer = tf.keras.optimizers.RMSprop(learning_rate=0.01)\n",
    "\n",
    "reduce_lr = tf.keras.callbacks.ReduceLROnPlateau(monitor='val_loss', factor=0.01,\n",
    "                              patience=2, min_lr=0.001)\n",
    "\n",
    "model.load_weights('robot_reboot_model/model_0/')\n",
    "\n",
    "model.compile(loss=losses, optimizer=optimizer, \n",
    "              metrics={\n",
    "                  'p':tf.keras.metrics.CategoricalAccuracy(),\n",
    "                  'v': tf.keras.metrics.Accuracy()\n",
    "              })\n",
    "h = model.fit(train_ds, epochs=20, validation_data=valid_ds, callbacks=[reduce_lr])"
   ]
  },
  {
   "cell_type": "code",
   "execution_count": null,
   "id": "convinced-coordinate",
   "metadata": {},
   "outputs": [],
   "source": [
    "show(h)"
   ]
  },
  {
   "cell_type": "code",
   "execution_count": null,
   "id": "olive-tactics",
   "metadata": {},
   "outputs": [],
   "source": [
    "show_accuracy(h)"
   ]
  },
  {
   "cell_type": "code",
   "execution_count": null,
   "id": "developmental-cover",
   "metadata": {},
   "outputs": [],
   "source": [
    "optimizer = tf.keras.optimizers.RMSprop(learning_rate=0.1)\n",
    "\n",
    "reduce_lr = tf.keras.callbacks.ReduceLROnPlateau(monitor='val_loss', factor=0.2,\n",
    "                              patience=2, min_lr=0.001, verbose=1)\n",
    "\n",
    "model.load_weights('robot_reboot_model/model_0/')\n",
    "\n",
    "model.compile(loss=losses, optimizer=optimizer, \n",
    "              metrics={\n",
    "                  'p':tf.keras.metrics.CategoricalAccuracy(),\n",
    "                  'v': tf.keras.metrics.Accuracy()\n",
    "              })\n",
    "h = model.fit(train_ds, epochs=20, validation_data=valid_ds, callbacks=[reduce_lr])"
   ]
  },
  {
   "cell_type": "code",
   "execution_count": null,
   "id": "authentic-toner",
   "metadata": {},
   "outputs": [],
   "source": [
    "show(h)"
   ]
  },
  {
   "cell_type": "code",
   "execution_count": null,
   "id": "horizontal-begin",
   "metadata": {},
   "outputs": [],
   "source": [
    "optimizer = tf.keras.optimizers.RMSprop(learning_rate=0.1)\n",
    "\n",
    "reduce_lr = tf.keras.callbacks.ReduceLROnPlateau(monitor='val_loss', factor=0.2,\n",
    "                              patience=2, min_lr=0.001, verbose=1)\n",
    "\n",
    "model.load_weights('robot_reboot_model/model_0/')\n",
    "\n",
    "model.compile(loss=losses, optimizer=optimizer, \n",
    "              metrics={\n",
    "                  'p':tf.keras.metrics.CategoricalAccuracy(),\n",
    "                  'v': tf.keras.metrics.Accuracy()\n",
    "              })\n",
    "h = model.fit(train_ds, epochs=100, validation_data=valid_ds, callbacks=[reduce_lr])"
   ]
  },
  {
   "cell_type": "code",
   "execution_count": null,
   "id": "amended-proxy",
   "metadata": {},
   "outputs": [],
   "source": [
    "reduce_lr = tf.keras.callbacks.ReduceLROnPlateau(monitor='val_loss', factor=0.001,\n",
    "                              patience=2, min_lr=0.00001, min_delta=0.00001,)\n",
    "\n",
    "optimizer = tf.keras.optimizers.RMSprop(learning_rate=0.0002)\n",
    "model.load_weights('robot_reboot_model/model_0/')\n",
    "\n",
    "model.compile(loss=losses, optimizer=optimizer, \n",
    "              metrics={\n",
    "                  'p':tf.keras.metrics.CategoricalAccuracy(),\n",
    "                  'v': tf.keras.metrics.Accuracy()\n",
    "              })\n",
    "h = model.fit(train_ds, epochs=20, validation_data=valid_ds, callbacks=[reduce_lr])"
   ]
  },
  {
   "cell_type": "code",
   "execution_count": null,
   "id": "authorized-chocolate",
   "metadata": {},
   "outputs": [],
   "source": [
    "reduce_lr = tf.keras.callbacks.ReduceLROnPlateau(monitor='val_loss', factor=0.00001,\n",
    "                              patience=2, min_lr=0.000001, verbose=1)\n",
    "model.load_weights('robot_reboot_model/model_0/')\n",
    "optimizer = tf.keras.optimizers.RMSprop(learning_rate=0.0006627064625413489)\n",
    "\n",
    "model.compile(loss=losses, optimizer=optimizer, \n",
    "              metrics={\n",
    "                  'p':tf.keras.metrics.CategoricalAccuracy(),\n",
    "                  'v': tf.keras.metrics.Accuracy()\n",
    "              })\n",
    "h = model.fit(train_ds, epochs=50, validation_data=valid_ds, callbacks=[reduce_lr])"
   ]
  },
  {
   "cell_type": "code",
   "execution_count": null,
   "id": "functioning-curtis",
   "metadata": {},
   "outputs": [],
   "source": [
    "show(h)"
   ]
  },
  {
   "cell_type": "code",
   "execution_count": null,
   "id": "respective-major",
   "metadata": {},
   "outputs": [],
   "source": [
    "reduce_lr = tf.keras.callbacks.ReduceLROnPlateau(monitor='val_loss', factor=0.2,\n",
    "                              patience=2, min_lr=0.000001, verbose=1)\n",
    "model.load_weights('robot_reboot_model/model_0/')\n",
    "optimizer = tf.keras.optimizers.RMSprop(learning_rate=0.0006627064625413489)\n",
    "\n",
    "model.compile(loss=losses, optimizer=optimizer, \n",
    "              metrics={\n",
    "                  'p':tf.keras.metrics.CategoricalAccuracy(),\n",
    "                  'v': tf.keras.metrics.Accuracy()\n",
    "              })\n",
    "h = model.fit(train_ds, epochs=10, validation_data=valid_ds, callbacks=[reduce_lr])"
   ]
  },
  {
   "cell_type": "code",
   "execution_count": null,
   "id": "prospective-terry",
   "metadata": {},
   "outputs": [],
   "source": [
    "show(h)"
   ]
  },
  {
   "cell_type": "code",
   "execution_count": null,
   "id": "acoustic-richardson",
   "metadata": {},
   "outputs": [],
   "source": [
    "import numpy as np\n",
    "\n",
    "s = np.random.random(31*31*9).reshape((1, 31, 31, 9))\n",
    "model.predict(s)"
   ]
  },
  {
   "cell_type": "code",
   "execution_count": null,
   "id": "amateur-reporter",
   "metadata": {},
   "outputs": [],
   "source": [
    "model.load_weights('robot_reboot_model/model_0/')\n",
    "reduce_lr = tf.keras.callbacks.ReduceLROnPlateau(monitor='val_loss', factor=0.2,\n",
    "                              patience=5, min_lr=0.001, verbose=1)\n",
    "losses = {\n",
    "    \"v\": 'mean_squared_error',\n",
    "    \"p\": tf.keras.losses.BinaryCrossentropy()\n",
    "}\n",
    "optimizer = tf.keras.optimizers.Adam(learning_rate=0.0026557128461762386)\n",
    "model.compile(loss=losses, optimizer=optimizer, metrics=[tf.keras.metrics.Accuracy()])\n",
    "h = model.fit(train_ds, epochs=100, validation_data=valid_ds, callbacks=[reduce_lr])"
   ]
  },
  {
   "cell_type": "code",
   "execution_count": null,
   "id": "conceptual-opinion",
   "metadata": {},
   "outputs": [],
   "source": [
    "show(h)"
   ]
  },
  {
   "cell_type": "code",
   "execution_count": null,
   "id": "precious-broadcasting",
   "metadata": {},
   "outputs": [],
   "source": [
    "h = model.fit(train_ds, epochs=100, validation_data=valid_ds, callbacks=[reduce_lr])"
   ]
  },
  {
   "cell_type": "code",
   "execution_count": null,
   "id": "circular-drilling",
   "metadata": {},
   "outputs": [],
   "source": [
    "show(h)"
   ]
  },
  {
   "cell_type": "code",
   "execution_count": null,
   "id": "enhanced-franklin",
   "metadata": {},
   "outputs": [],
   "source": []
  }
 ],
 "metadata": {
  "kernelspec": {
   "display_name": "Python 3",
   "language": "python",
   "name": "python3"
  },
  "language_info": {
   "codemirror_mode": {
    "name": "ipython",
    "version": 3
   },
   "file_extension": ".py",
   "mimetype": "text/x-python",
   "name": "python",
   "nbconvert_exporter": "python",
   "pygments_lexer": "ipython3",
   "version": "3.7.7"
  }
 },
 "nbformat": 4,
 "nbformat_minor": 5
}
