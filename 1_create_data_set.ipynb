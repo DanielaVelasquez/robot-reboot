{
 "cells": [
  {
   "cell_type": "code",
   "execution_count": 1,
   "id": "british-clause",
   "metadata": {},
   "outputs": [],
   "source": [
    "import tensorflow as tf\n",
    "import pandas as pd\n",
    "import numpy as np\n",
    "from src.robot_reboot.dataset_factory import RobotRebootDataSetFactory"
   ]
  },
  {
   "cell_type": "code",
   "execution_count": 2,
   "id": "addressed-worst",
   "metadata": {},
   "outputs": [
    {
     "name": "stdout",
     "output_type": "stream",
     "text": [
      "Model: \"model_2\"\n",
      "__________________________________________________________________________________________________\n",
      "Layer (type)                    Output Shape         Param #     Connected to                     \n",
      "==================================================================================================\n",
      "input (InputLayer)              [(None, 31, 31, 9)]  0                                            \n",
      "__________________________________________________________________________________________________\n",
      "conv_0 (Conv2D)                 (None, 31, 31, 64)   9280        input[0][0]                      \n",
      "__________________________________________________________________________________________________\n",
      "max_pooling2d_6 (MaxPooling2D)  (None, 15, 15, 64)   0           conv_0[0][0]                     \n",
      "__________________________________________________________________________________________________\n",
      "conv_1 (Conv2D)                 (None, 15, 15, 64)   65600       max_pooling2d_6[0][0]            \n",
      "__________________________________________________________________________________________________\n",
      "max_pooling2d_7 (MaxPooling2D)  (None, 7, 7, 64)     0           conv_1[0][0]                     \n",
      "__________________________________________________________________________________________________\n",
      "conv_2 (Conv2D)                 (None, 7, 7, 64)     65600       max_pooling2d_7[0][0]            \n",
      "__________________________________________________________________________________________________\n",
      "max_pooling2d_8 (MaxPooling2D)  (None, 3, 3, 64)     0           conv_2[0][0]                     \n",
      "__________________________________________________________________________________________________\n",
      "flatten_2 (Flatten)             (None, 576)          0           max_pooling2d_8[0][0]            \n",
      "__________________________________________________________________________________________________\n",
      "dense_1 (Dense)                 (None, 128)          73856       flatten_2[0][0]                  \n",
      "__________________________________________________________________________________________________\n",
      "dropout_1 (Dropout)             (None, 128)          0           dense_1[0][0]                    \n",
      "__________________________________________________________________________________________________\n",
      "dense_2 (Dense)                 (None, 128)          16512       dropout_1[0][0]                  \n",
      "__________________________________________________________________________________________________\n",
      "dropout_2 (Dropout)             (None, 128)          0           dense_2[0][0]                    \n",
      "__________________________________________________________________________________________________\n",
      "v (Dense)                       (None, 1)            129         dropout_2[0][0]                  \n",
      "__________________________________________________________________________________________________\n",
      "p (Dense)                       (None, 16)           2064        dropout_2[0][0]                  \n",
      "==================================================================================================\n",
      "Total params: 233,041\n",
      "Trainable params: 233,041\n",
      "Non-trainable params: 0\n",
      "__________________________________________________________________________________________________\n"
     ]
    }
   ],
   "source": [
    "cnn = tf.keras.models.load_model('model/model_0')\n",
    "cnn.summary()"
   ]
  },
  {
   "cell_type": "code",
   "execution_count": 3,
   "id": "bulgarian-burke",
   "metadata": {},
   "outputs": [],
   "source": [
    "ds_factory = RobotRebootDataSetFactory(31, cnn, max_depth=20, seed=26, playouts=50)"
   ]
  },
  {
   "cell_type": "code",
   "execution_count": 4,
   "id": "forty-tulsa",
   "metadata": {},
   "outputs": [],
   "source": [
    "rows, cols, layers = 31, 31, 9\n",
    "robots = int((layers - 1)/2)\n",
    "p_columns = [f'p_{i}' for i in range(robots * 4)]\n",
    "maze_columns = [f'm_{i}' for i in range(rows * cols *layers)]\n",
    "columns = ['v'] + p_columns + maze_columns"
   ]
  },
  {
   "cell_type": "code",
   "execution_count": 5,
   "id": "outdoor-electronics",
   "metadata": {},
   "outputs": [],
   "source": [
    "def save(v, p, s, i):\n",
    "    p_and_maze = np.concatenate((p, s.reshape(1, rows * cols * layers)), axis=None)\n",
    "    data = np.concatenate((np.array([v]), p_and_maze), axis=None).reshape(1, 8666)\n",
    "    df = pd.DataFrame(data = data, columns = columns)\n",
    "    print(f'Saving data/ds_{i}.csv')\n",
    "    df.to_csv(f'data/ds_{i}.csv')"
   ]
  },
  {
   "cell_type": "code",
   "execution_count": 6,
   "id": "built-numbers",
   "metadata": {},
   "outputs": [],
   "source": [
    "def create(ds_factory, max_movements, i):\n",
    "    print(f'Creating sample: {i}')\n",
    "    v, p, s = ds_factory.create(locate_robot_close_goal=True, max_movements=max_movements)\n",
    "    save(v, p, s, i)"
   ]
  },
  {
   "cell_type": "code",
   "execution_count": null,
   "id": "thirty-criticism",
   "metadata": {},
   "outputs": [
    {
     "name": "stdout",
     "output_type": "stream",
     "text": [
      "Creating 0-th sample\n",
      "Creating 1-th sample\n",
      "Saving data/ds_1.csv\n"
     ]
    }
   ],
   "source": [
    "from threading import Thread\n",
    "from time import sleep\n",
    "\n",
    "np.random.seed(26)\n",
    "threads = list()\n",
    "for i in range(0, 2):\n",
    "    if i% 20 ==0 and i!=0:\n",
    "        print(f'Created {i}/600')\n",
    "        [t.join() for t in threads]\n",
    "        threads = list()\n",
    "    max_movements = np.random.randint(1, 6)\n",
    "    thread = Thread(target = create, args=(ds_factory, max_movements, i))\n",
    "    thread.start()\n",
    "    threads.append(thread)\n",
    "[t.join() for t in threads]"
   ]
  },
  {
   "cell_type": "code",
   "execution_count": null,
   "id": "prescribed-simpson",
   "metadata": {},
   "outputs": [],
   "source": [
    "np.random.randint(1, 6)"
   ]
  },
  {
   "cell_type": "code",
   "execution_count": null,
   "id": "adaptive-constitutional",
   "metadata": {},
   "outputs": [],
   "source": []
  },
  {
   "cell_type": "code",
   "execution_count": null,
   "id": "ignored-dragon",
   "metadata": {},
   "outputs": [],
   "source": [
    "df = pd.read_csv('data/df_0')"
   ]
  },
  {
   "cell_type": "code",
   "execution_count": null,
   "id": "private-coffee",
   "metadata": {},
   "outputs": [],
   "source": [
    "df.head"
   ]
  },
  {
   "cell_type": "code",
   "execution_count": null,
   "id": "august-request",
   "metadata": {},
   "outputs": [],
   "source": [
    "df[p_columns]"
   ]
  },
  {
   "cell_type": "code",
   "execution_count": null,
   "id": "vertical-craps",
   "metadata": {},
   "outputs": [],
   "source": []
  }
 ],
 "metadata": {
  "kernelspec": {
   "display_name": "conda_tensorflow2_p36",
   "language": "python",
   "name": "conda_tensorflow2_p36"
  },
  "language_info": {
   "codemirror_mode": {
    "name": "ipython",
    "version": 3
   },
   "file_extension": ".py",
   "mimetype": "text/x-python",
   "name": "python",
   "nbconvert_exporter": "python",
   "pygments_lexer": "ipython3",
   "version": "3.6.13"
  }
 },
 "nbformat": 4,
 "nbformat_minor": 5
}
