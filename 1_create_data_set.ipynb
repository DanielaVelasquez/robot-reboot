{
 "cells": [
  {
   "cell_type": "code",
   "execution_count": 1,
   "id": "meaning-avatar",
   "metadata": {},
   "outputs": [],
   "source": [
    "import tensorflow as tf\n",
    "import pandas as pd\n",
    "import numpy as np\n",
    "from src.robot_reboot.dataset_factory import RobotRebootDataSetFactory"
   ]
  },
  {
   "cell_type": "code",
   "execution_count": 2,
   "id": "optimum-diagnosis",
   "metadata": {},
   "outputs": [
    {
     "name": "stdout",
     "output_type": "stream",
     "text": [
      "Model: \"model_2\"\n",
      "__________________________________________________________________________________________________\n",
      "Layer (type)                    Output Shape         Param #     Connected to                     \n",
      "==================================================================================================\n",
      "input (InputLayer)              [(None, 31, 31, 9)]  0                                            \n",
      "__________________________________________________________________________________________________\n",
      "conv_0 (Conv2D)                 (None, 31, 31, 64)   9280        input[0][0]                      \n",
      "__________________________________________________________________________________________________\n",
      "max_pooling2d_6 (MaxPooling2D)  (None, 15, 15, 64)   0           conv_0[0][0]                     \n",
      "__________________________________________________________________________________________________\n",
      "conv_1 (Conv2D)                 (None, 15, 15, 64)   65600       max_pooling2d_6[0][0]            \n",
      "__________________________________________________________________________________________________\n",
      "max_pooling2d_7 (MaxPooling2D)  (None, 7, 7, 64)     0           conv_1[0][0]                     \n",
      "__________________________________________________________________________________________________\n",
      "conv_2 (Conv2D)                 (None, 7, 7, 64)     65600       max_pooling2d_7[0][0]            \n",
      "__________________________________________________________________________________________________\n",
      "max_pooling2d_8 (MaxPooling2D)  (None, 3, 3, 64)     0           conv_2[0][0]                     \n",
      "__________________________________________________________________________________________________\n",
      "flatten_2 (Flatten)             (None, 576)          0           max_pooling2d_8[0][0]            \n",
      "__________________________________________________________________________________________________\n",
      "dense_1 (Dense)                 (None, 128)          73856       flatten_2[0][0]                  \n",
      "__________________________________________________________________________________________________\n",
      "dropout_1 (Dropout)             (None, 128)          0           dense_1[0][0]                    \n",
      "__________________________________________________________________________________________________\n",
      "dense_2 (Dense)                 (None, 128)          16512       dropout_1[0][0]                  \n",
      "__________________________________________________________________________________________________\n",
      "dropout_2 (Dropout)             (None, 128)          0           dense_2[0][0]                    \n",
      "__________________________________________________________________________________________________\n",
      "v (Dense)                       (None, 1)            129         dropout_2[0][0]                  \n",
      "__________________________________________________________________________________________________\n",
      "p (Dense)                       (None, 16)           2064        dropout_2[0][0]                  \n",
      "==================================================================================================\n",
      "Total params: 233,041\n",
      "Trainable params: 233,041\n",
      "Non-trainable params: 0\n",
      "__________________________________________________________________________________________________\n"
     ]
    }
   ],
   "source": [
    "cnn = tf.keras.models.load_model('model/model_0')\n",
    "cnn.summary()"
   ]
  },
  {
   "cell_type": "code",
   "execution_count": 3,
   "id": "fleet-plain",
   "metadata": {},
   "outputs": [],
   "source": [
    "ds_factory = RobotRebootDataSetFactory(31, cnn, max_depth=20, seed=26, playouts=50)"
   ]
  },
  {
   "cell_type": "code",
   "execution_count": 6,
   "id": "freelance-sleeping",
   "metadata": {},
   "outputs": [],
   "source": [
    "rows, cols, layers = 31, 31, 9\n",
    "robots = int((layers - 1)/2)\n",
    "p_columns = [f'p_{i}' for i in range(robots * 4)]\n",
    "maze_columns = [f'm_{i}' for i in range(rows * cols *layers)]\n",
    "columns = ['v'] + p_columns + maze_columns"
   ]
  },
  {
   "cell_type": "code",
   "execution_count": 7,
   "id": "tamil-relaxation",
   "metadata": {},
   "outputs": [],
   "source": [
    "def create(ds_factory, max_movements, i):\n",
    "    print(f'Creating sample: {i}')\n",
    "    v, p, s = ds_factory.create(locate_robot_close_goal=True, max_movements=max_movements)\n",
    "    p_and_maze = np.concatenate((p, s.reshape(1, rows * cols * layers)), axis=None)\n",
    "    data = np.concatenate((np.array([v]), p_and_maze), axis=None).reshape(1, 8666)\n",
    "    df = pd.DataFrame(data = data, columns = columns)\n",
    "    print(f'Saving data/ds_{i}.csv')\n",
    "    df.to_csv(f'data/ds_{i}.csv', header=False, index=False)"
   ]
  },
  {
   "cell_type": "code",
   "execution_count": 9,
   "id": "flexible-angle",
   "metadata": {},
   "outputs": [
    {
     "name": "stdout",
     "output_type": "stream",
     "text": [
      "Creating sample: 0\n",
      "Creating sample: 1\n",
      "Saving data/ds_0.csv\n",
      "Saving data/ds_1.csv\n"
     ]
    },
    {
     "data": {
      "text/plain": [
       "[None, None]"
      ]
     },
     "execution_count": 9,
     "metadata": {},
     "output_type": "execute_result"
    }
   ],
   "source": [
    "from threading import Thread\n",
    "\n",
    "np.random.seed(26)\n",
    "threads = list()\n",
    "for i in range(0, 2):\n",
    "    if i% 20 ==0 and i!=0:\n",
    "        print(f'Created {i}/600')\n",
    "        [t.join() for t in threads]\n",
    "        threads = list()\n",
    "    max_movements = np.random.randint(1, 6)\n",
    "    thread = Thread(target = create, args=(ds_factory, max_movements, i))\n",
    "    thread.start()\n",
    "    threads.append(thread)\n",
    "[t.join() for t in threads]"
   ]
  },
  {
   "cell_type": "code",
   "execution_count": 17,
   "id": "center-texture",
   "metadata": {},
   "outputs": [],
   "source": [
    "import glob\n",
    "\n",
    "path = r'data'\n",
    "all_files = glob.glob(path + \"/*.csv\")\n",
    "ds = list()\n",
    "for filename in all_files:\n",
    "    df = pd.read_csv(filename, index_col =None, header=0)\n",
    "    ds.append(df)"
   ]
  },
  {
   "cell_type": "code",
   "execution_count": 18,
   "id": "obvious-production",
   "metadata": {},
   "outputs": [],
   "source": [
    "df = pd.concat(ds, axis = 0, ignore_index=True)"
   ]
  },
  {
   "cell_type": "code",
   "execution_count": 19,
   "id": "verbal-equivalent",
   "metadata": {},
   "outputs": [
    {
     "data": {
      "text/plain": [
       "Index(['0.0', '1.0', '0.0.1', '0.0.2', '0.0.3', '0.3', '0.28', '0.28.1', '0.4',\n",
       "       '0.4.1',\n",
       "       ...\n",
       "       '0.0.8604', '0.0.8605', '0.0.8606', '0.0.8607', '0.0.8608', '0.0.8609',\n",
       "       '0.0.8610', '0.0.8611', '0.0.8612', '0.0.8613'],\n",
       "      dtype='object', length=8680)"
      ]
     },
     "execution_count": 19,
     "metadata": {},
     "output_type": "execute_result"
    }
   ],
   "source": [
    "df.columns"
   ]
  },
  {
   "cell_type": "code",
   "execution_count": null,
   "id": "floating-ivory",
   "metadata": {},
   "outputs": [],
   "source": []
  }
 ],
 "metadata": {
  "kernelspec": {
   "display_name": "Python 3",
   "language": "python",
   "name": "python3"
  },
  "language_info": {
   "codemirror_mode": {
    "name": "ipython",
    "version": 3
   },
   "file_extension": ".py",
   "mimetype": "text/x-python",
   "name": "python",
   "nbconvert_exporter": "python",
   "pygments_lexer": "ipython3",
   "version": "3.7.7"
  }
 },
 "nbformat": 4,
 "nbformat_minor": 5
}
