{
 "cells": [
  {
   "cell_type": "code",
   "execution_count": 1,
   "id": "meaning-avatar",
   "metadata": {},
   "outputs": [],
   "source": [
    "import tensorflow as tf\n",
    "import pandas as pd\n",
    "import numpy as np\n",
    "from src.robot_reboot.dataset_factory import RobotRebootDataSetFactory"
   ]
  },
  {
   "cell_type": "code",
   "execution_count": 2,
   "id": "optimum-diagnosis",
   "metadata": {},
   "outputs": [
    {
     "name": "stdout",
     "output_type": "stream",
     "text": [
      "Model: \"model_2\"\n",
      "__________________________________________________________________________________________________\n",
      "Layer (type)                    Output Shape         Param #     Connected to                     \n",
      "==================================================================================================\n",
      "input (InputLayer)              [(None, 31, 31, 9)]  0                                            \n",
      "__________________________________________________________________________________________________\n",
      "conv_0 (Conv2D)                 (None, 31, 31, 64)   9280        input[0][0]                      \n",
      "__________________________________________________________________________________________________\n",
      "max_pooling2d_6 (MaxPooling2D)  (None, 15, 15, 64)   0           conv_0[0][0]                     \n",
      "__________________________________________________________________________________________________\n",
      "conv_1 (Conv2D)                 (None, 15, 15, 64)   65600       max_pooling2d_6[0][0]            \n",
      "__________________________________________________________________________________________________\n",
      "max_pooling2d_7 (MaxPooling2D)  (None, 7, 7, 64)     0           conv_1[0][0]                     \n",
      "__________________________________________________________________________________________________\n",
      "conv_2 (Conv2D)                 (None, 7, 7, 64)     65600       max_pooling2d_7[0][0]            \n",
      "__________________________________________________________________________________________________\n",
      "max_pooling2d_8 (MaxPooling2D)  (None, 3, 3, 64)     0           conv_2[0][0]                     \n",
      "__________________________________________________________________________________________________\n",
      "flatten_2 (Flatten)             (None, 576)          0           max_pooling2d_8[0][0]            \n",
      "__________________________________________________________________________________________________\n",
      "dense_1 (Dense)                 (None, 128)          73856       flatten_2[0][0]                  \n",
      "__________________________________________________________________________________________________\n",
      "dropout_1 (Dropout)             (None, 128)          0           dense_1[0][0]                    \n",
      "__________________________________________________________________________________________________\n",
      "dense_2 (Dense)                 (None, 128)          16512       dropout_1[0][0]                  \n",
      "__________________________________________________________________________________________________\n",
      "dropout_2 (Dropout)             (None, 128)          0           dense_2[0][0]                    \n",
      "__________________________________________________________________________________________________\n",
      "v (Dense)                       (None, 1)            129         dropout_2[0][0]                  \n",
      "__________________________________________________________________________________________________\n",
      "p (Dense)                       (None, 16)           2064        dropout_2[0][0]                  \n",
      "==================================================================================================\n",
      "Total params: 233,041\n",
      "Trainable params: 233,041\n",
      "Non-trainable params: 0\n",
      "__________________________________________________________________________________________________\n"
     ]
    }
   ],
   "source": [
    "cnn = tf.keras.models.load_model('model/model_0')\n",
    "cnn.summary()"
   ]
  },
  {
   "cell_type": "code",
   "execution_count": 3,
   "id": "fleet-plain",
   "metadata": {},
   "outputs": [],
   "source": [
    "ds_factory = RobotRebootDataSetFactory(31, cnn, max_depth=20, seed=26, playouts=50)"
   ]
  },
  {
   "cell_type": "code",
   "execution_count": 4,
   "id": "freelance-sleeping",
   "metadata": {},
   "outputs": [],
   "source": [
    "rows, cols, layers = 31, 31, 9\n",
    "robots = int((layers - 1)/2)\n",
    "p_columns = [f'p_{i}' for i in range(robots * 4)]\n",
    "maze_columns = [f'm_{i}' for i in range(rows * cols *layers)]\n",
    "columns = ['v'] + p_columns + maze_columns"
   ]
  },
  {
   "cell_type": "code",
   "execution_count": 5,
   "id": "marine-tower",
   "metadata": {},
   "outputs": [],
   "source": [
    "def write_tf_record(ds_factory, max_movements, i, f):\n",
    "    v, p, s = ds_factory.create(locate_robot_close_goal=True, max_movements=max_movements)\n",
    "    state = s.reshape(rows * cols * layers,)\n",
    "    sample = tf.train.Example(\n",
    "        features = tf.train.Features(\n",
    "            feature = {\n",
    "                    'v': tf.train.Feature(float_list=tf.train.FloatList(value=[v])),\n",
    "                    'p': tf.train.Feature(float_list=tf.train.FloatList(value = p)),\n",
    "                    's': tf.train.Feature(float_list=tf.train.FloatList(value = state))\n",
    "                }\n",
    "            )\n",
    "    )\n",
    "    f.write(sample.SerializeToString())"
   ]
  },
  {
   "cell_type": "code",
   "execution_count": null,
   "id": "coordinate-approach",
   "metadata": {},
   "outputs": [
    {
     "name": "stdout",
     "output_type": "stream",
     "text": [
      "Creating batch 1/30\n",
      "Creating batch 2/30\n",
      "Creating batch 3/30\n",
      "Creating batch 4/30\n",
      "Creating batch 5/30\n",
      "Creating batch 6/30\n",
      "Creating batch 7/30\n"
     ]
    },
    {
     "name": "stderr",
     "output_type": "stream",
     "text": [
      "Exception in thread Thread-137:\n",
      "Traceback (most recent call last):\n",
      "  File \"/usr/local/opt/python/Frameworks/Python.framework/Versions/3.7/lib/python3.7/threading.py\", line 926, in _bootstrap_inner\n",
      "    self.run()\n",
      "  File \"/usr/local/opt/python/Frameworks/Python.framework/Versions/3.7/lib/python3.7/threading.py\", line 870, in run\n",
      "    self._target(*self._args, **self._kwargs)\n",
      "  File \"<ipython-input-5-6f7ab89a8e79>\", line 2, in write_tf_record\n",
      "    v, p, s = ds_factory.create(locate_robot_close_goal=True, max_movements=max_movements)\n",
      "  File \"/Users/danielavelasquez/mlearning/robot-reboot/src/robot_reboot/dataset_factory.py\", line 59, in create\n",
      "    p = mcts.search(state)\n",
      "  File \"/Users/danielavelasquez/mlearning/robot-reboot/src/alphazero/montecarlo_tree_search.py\", line 73, in search\n",
      "    p[i] = self.__simulations(next_state, self.__playouts)\n",
      "  File \"/Users/danielavelasquez/mlearning/robot-reboot/src/alphazero/montecarlo_tree_search.py\", line 84, in __simulations\n",
      "    v = np.array([self.__playout(state) for _ in range(n)])\n",
      "  File \"/Users/danielavelasquez/mlearning/robot-reboot/src/alphazero/montecarlo_tree_search.py\", line 84, in <listcomp>\n",
      "    v = np.array([self.__playout(state) for _ in range(n)])\n",
      "  File \"/Users/danielavelasquez/mlearning/robot-reboot/src/alphazero/montecarlo_tree_search.py\", line 108, in __playout\n",
      "    v = self.__playout(next_state, depth + 1)\n",
      "  File \"/Users/danielavelasquez/mlearning/robot-reboot/src/alphazero/montecarlo_tree_search.py\", line 108, in __playout\n",
      "    v = self.__playout(next_state, depth + 1)\n",
      "  File \"/Users/danielavelasquez/mlearning/robot-reboot/src/alphazero/montecarlo_tree_search.py\", line 108, in __playout\n",
      "    v = self.__playout(next_state, depth + 1)\n",
      "  [Previous line repeated 14 more times]\n",
      "  File \"/Users/danielavelasquez/mlearning/robot-reboot/src/alphazero/montecarlo_tree_search.py\", line 99, in __playout\n",
      "    v, p = self.__game_player.predict(state)\n",
      "  File \"/Users/danielavelasquez/mlearning/robot-reboot/src/alphazero/game_player.py\", line 81, in predict\n",
      "    return self.__model.predict(state)\n",
      "  File \"/Users/danielavelasquez/mlearning/robot-reboot/src/robot_reboot/model.py\", line 22, in predict\n",
      "    pred = self.__network.predict(s.reshape((1, rows, cols, layers)))\n",
      "  File \"/Users/danielavelasquez/mlearning/robot-reboot/src/robotenv/lib/python3.7/site-packages/tensorflow/python/keras/engine/training.py\", line 1629, in predict\n",
      "    tmp_batch_outputs = self.predict_function(iterator)\n",
      "AttributeError: 'Functional' object has no attribute 'predict_function'\n",
      "\n"
     ]
    },
    {
     "name": "stdout",
     "output_type": "stream",
     "text": [
      "Creating batch 8/30\n",
      "Creating batch 9/30\n",
      "Creating batch 10/30\n",
      "Creating batch 11/30\n",
      "Creating batch 12/30\n"
     ]
    }
   ],
   "source": [
    "from threading import Thread\n",
    "\n",
    "np.random.seed(26)\n",
    "def create_tfrecord(batch, n):\n",
    "    threads = list()\n",
    "    with tf.io.TFRecordWriter(f'robot_reboot_{batch}.tfrecord') as f:\n",
    "        for i in range(0, n):\n",
    "            if i% 10 ==0 and i!=0:\n",
    "                \n",
    "                [t.join() for t in threads]\n",
    "                threads = list()\n",
    "            max_movements = np.random.randint(1, 6)\n",
    "            thread = Thread(target = write_tf_record, args=(ds_factory, max_movements, i, f))\n",
    "            thread.start()\n",
    "            threads.append(thread)\n",
    "        [t.join() for t in threads]\n",
    "\n",
    "for i in range(0, 30):\n",
    "    print(f'Creating batch {i + 1}/30')\n",
    "    create_tfrecord(i + 1, 20)"
   ]
  },
  {
   "cell_type": "code",
   "execution_count": null,
   "id": "potential-thursday",
   "metadata": {},
   "outputs": [],
   "source": []
  }
 ],
 "metadata": {
  "kernelspec": {
   "display_name": "Python 3",
   "language": "python",
   "name": "python3"
  },
  "language_info": {
   "codemirror_mode": {
    "name": "ipython",
    "version": 3
   },
   "file_extension": ".py",
   "mimetype": "text/x-python",
   "name": "python",
   "nbconvert_exporter": "python",
   "pygments_lexer": "ipython3",
   "version": "3.7.7"
  }
 },
 "nbformat": 4,
 "nbformat_minor": 5
}
