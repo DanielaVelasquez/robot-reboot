{
 "cells": [
  {
   "cell_type": "code",
   "execution_count": 1,
   "id": "banned-benchmark",
   "metadata": {},
   "outputs": [],
   "source": [
    "import tensorflow as tf\n",
    "import numpy as np\n",
    "from src.ml.model import get_model"
   ]
  },
  {
   "cell_type": "code",
   "execution_count": 2,
   "id": "fuzzy-shelf",
   "metadata": {},
   "outputs": [
    {
     "data": {
      "text/plain": [
       "<tensorflow.python.training.tracking.util.CheckpointLoadStatus at 0x176f27050>"
      ]
     },
     "execution_count": 2,
     "metadata": {},
     "output_type": "execute_result"
    }
   ],
   "source": [
    "current_model = get_model()\n",
    "current_model.load_weights('robot_reboot_model/model_0/')"
   ]
  },
  {
   "cell_type": "code",
   "execution_count": 3,
   "id": "chemical-farmer",
   "metadata": {},
   "outputs": [
    {
     "data": {
      "text/plain": [
       "<tensorflow.python.training.tracking.util.CheckpointLoadStatus at 0x1771d3650>"
      ]
     },
     "execution_count": 3,
     "metadata": {},
     "output_type": "execute_result"
    }
   ],
   "source": [
    "trained_model = get_model()\n",
    "trained_model.load_weights('robot_reboot_model/model_0/')"
   ]
  },
  {
   "cell_type": "code",
   "execution_count": 4,
   "id": "anticipated-receptor",
   "metadata": {},
   "outputs": [],
   "source": [
    "from src.alphazero.heuristic_function import heuristic_fn\n",
    "from src.alphazero.montecarlo_tree_search import MonteCarloTreeSearch\n",
    "from src.robot_reboot.factory import RobotRebootFactory\n",
    "from src.robot_reboot.model import RobotRebootModel\n",
    "from src.alphazero.game_player import GamePlayer\n",
    "\n",
    "\n",
    "rows, cols, layers = 31, 31, 9\n",
    "\n",
    "def build_mcts(nn, game, max_depth, playouts):\n",
    "    model = RobotRebootModel(game, nn)\n",
    "    game_player = GamePlayer(model, game)\n",
    "    mcts = MonteCarloTreeSearch(heuristic_fn, max_depth, game_player, playouts=playouts)\n",
    "    return mcts\n",
    "    \n",
    "def play(state, mcts, game, depth=0, max_depth=2):\n",
    "    if depth > max_depth:\n",
    "        return state\n",
    "    p = mcts.search(state)\n",
    "    i_best = np.argsort(p)[::-1][0]\n",
    "    action = game.actions[i_best]\n",
    "    next_state = game.apply(action, state)\n",
    "    return play(next_state, mcts, game, depth=depth + 1, max_depth=max_depth)\n",
    "\n",
    "def evaluate(nn, state, i, game, max_depth =20, playouts=50):\n",
    "    mcts = build_mcts(nn, game, max_depth, playouts)\n",
    "    final_state = play(state, mcts, game, max_depth=max_depth)\n",
    "    v = game.get_value(final_state)\n",
    "    score = game.get_score(final_state)\n",
    "    \n",
    "    sample = tf.train.Example(\n",
    "        features=tf.train.Features(\n",
    "            feature={\n",
    "                'i': tf.train.Feature(float_list=tf.train.FloatList(value=[i])),\n",
    "                'v': tf.train.Feature(float_list=tf.train.FloatList(value=[v])),\n",
    "                'score': tf.train.Feature(float_list=tf.train.FloatList(value=[score])),\n",
    "                's': tf.train.Feature(float_list=tf.train.FloatList(value=final_state.reshape(rows * cols * layers, )))\n",
    "            }\n",
    "        )\n",
    "    )\n",
    "    print(f'{i}: score {score} and v {v}')\n",
    "    with tf.io.TFRecordWriter(f'results/{i}_result.tfrecords') as f:\n",
    "        f.write(sample.SerializeToString())"
   ]
  },
  {
   "cell_type": "code",
   "execution_count": 6,
   "id": "interesting-organizer",
   "metadata": {
    "scrolled": true
   },
   "outputs": [],
   "source": [
    "from src.robot_reboot.game import get_game_from_matrix\n",
    "\n",
    "test_dataset = tf.data.TFRecordDataset('robot_reboot_data/testing.tfrecords')\n",
    "feature_desc = {\n",
    "    's': tf.io.VarLenFeature(tf.float32)\n",
    "}\n",
    "for serialized in test_dataset:\n",
    "    parsed = tf.io.parse_single_example(serialized, feature_desc)\n",
    "    s = tf.reshape(tf.sparse.to_dense(parsed['s']), (rows, cols, layers)).numpy()"
   ]
  },
  {
   "cell_type": "code",
   "execution_count": 7,
   "id": "neutral-england",
   "metadata": {},
   "outputs": [],
   "source": [
    "matrix = s"
   ]
  },
  {
   "cell_type": "code",
   "execution_count": 17,
   "id": "animal-subcommittee",
   "metadata": {},
   "outputs": [
    {
     "ename": "TypeError",
     "evalue": "evaluate() got multiple values for argument 'max_depth'",
     "output_type": "error",
     "traceback": [
      "\u001b[0;31m---------------------------------------------------------------------------\u001b[0m",
      "\u001b[0;31mTypeError\u001b[0m                                 Traceback (most recent call last)",
      "\u001b[0;32m<ipython-input-17-db0ea1de5d49>\u001b[0m in \u001b[0;36m<module>\u001b[0;34m\u001b[0m\n\u001b[1;32m      1\u001b[0m \u001b[0mgame\u001b[0m\u001b[0;34m,\u001b[0m \u001b[0mstate\u001b[0m \u001b[0;34m=\u001b[0m \u001b[0mget_game_from_matrix\u001b[0m\u001b[0;34m(\u001b[0m\u001b[0mmatrix\u001b[0m\u001b[0;34m)\u001b[0m\u001b[0;34m\u001b[0m\u001b[0;34m\u001b[0m\u001b[0m\n\u001b[0;32m----> 2\u001b[0;31m \u001b[0mevaluate\u001b[0m\u001b[0;34m(\u001b[0m\u001b[0mtrained_model\u001b[0m\u001b[0;34m,\u001b[0m \u001b[0mstate\u001b[0m\u001b[0;34m,\u001b[0m \u001b[0;36m0\u001b[0m\u001b[0;34m,\u001b[0m \u001b[0mgame\u001b[0m\u001b[0;34m,\u001b[0m \u001b[0mmax_depth\u001b[0m\u001b[0;34m=\u001b[0m\u001b[0;36m2\u001b[0m\u001b[0;34m,\u001b[0m \u001b[0mplayouts\u001b[0m\u001b[0;34m=\u001b[0m\u001b[0;36m2\u001b[0m\u001b[0;34m)\u001b[0m\u001b[0;34m\u001b[0m\u001b[0;34m\u001b[0m\u001b[0m\n\u001b[0m",
      "\u001b[0;31mTypeError\u001b[0m: evaluate() got multiple values for argument 'max_depth'"
     ]
    }
   ],
   "source": [
    "game, state = get_game_from_matrix(matrix)\n",
    "evaluate(trained_model, state, 0, game, max_depth=2, playouts=2)"
   ]
  },
  {
   "cell_type": "code",
   "execution_count": 14,
   "id": "cardiovascular-replication",
   "metadata": {},
   "outputs": [
    {
     "data": {
      "text/plain": [
       "'Robot 2 needs to get to its house on (20, 28)'"
      ]
     },
     "execution_count": 14,
     "metadata": {},
     "output_type": "execute_result"
    }
   ],
   "source": [
    "str(game.goal_house)"
   ]
  },
  {
   "cell_type": "code",
   "execution_count": 16,
   "id": "thorough-footwear",
   "metadata": {},
   "outputs": [
    {
     "data": {
      "text/plain": [
       "[(0, 1), (6, 17), (0, 22), (10, 6)]"
      ]
     },
     "execution_count": 16,
     "metadata": {},
     "output_type": "execute_result"
    }
   ],
   "source": [
    "state.robots_positions"
   ]
  },
  {
   "cell_type": "code",
   "execution_count": null,
   "id": "comprehensive-chrome",
   "metadata": {},
   "outputs": [],
   "source": [
    "robots"
   ]
  },
  {
   "cell_type": "code",
   "execution_count": null,
   "id": "nonprofit-sensitivity",
   "metadata": {},
   "outputs": [],
   "source": [
    "evaluate(trained_model, s, 0, max_depth=3, playouts=2)"
   ]
  },
  {
   "cell_type": "code",
   "execution_count": null,
   "id": "alpha-prototype",
   "metadata": {},
   "outputs": [],
   "source": [
    "history = {\n",
    "    'history': {\n",
    "        'value': [0, 1, 1, -1, -1],\n",
    "        'score': [12, 12, 12, 12]\n",
    "    }\n",
    "}\n",
    "history"
   ]
  },
  {
   "cell_type": "code",
   "execution_count": null,
   "id": "liable-disco",
   "metadata": {},
   "outputs": [],
   "source": [
    "import multiprocessing\n",
    "from multiprocessing import Value\n",
    "def a_function(ret_value):\n",
    "    ret_value.value = 3.14\n",
    "\n",
    "index = Value(\"d\", 0.0)\n",
    "\n",
    "reader_process = multiprocessing.Process(target=a_function, args=[ret_value])\n",
    "reader_process.start()\n",
    "reader_process.join()\n",
    "\n",
    "print(ret_value.value)\n"
   ]
  },
  {
   "cell_type": "code",
   "execution_count": null,
   "id": "south-second",
   "metadata": {},
   "outputs": [],
   "source": []
  }
 ],
 "metadata": {
  "kernelspec": {
   "display_name": "Python 3",
   "language": "python",
   "name": "python3"
  },
  "language_info": {
   "codemirror_mode": {
    "name": "ipython",
    "version": 3
   },
   "file_extension": ".py",
   "mimetype": "text/x-python",
   "name": "python",
   "nbconvert_exporter": "python",
   "pygments_lexer": "ipython3",
   "version": "3.7.7"
  }
 },
 "nbformat": 4,
 "nbformat_minor": 5
}
