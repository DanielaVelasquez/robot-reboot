{
 "cells": [
  {
   "cell_type": "code",
   "execution_count": 1,
   "metadata": {},
   "outputs": [],
   "source": [
    "from robotreboot_env import RobotRebootEnv\n",
    "from models.robotreboot import RobotReboot\n",
    "from models.maze import Maze\n",
    "from models.robotreboot import Goal\n",
    "from models.instance_game import get_robot_reboot\n",
    "\n",
    "import numpy as np\n",
    "import tensorflow as tf\n",
    "from tensorflow import keras"
   ]
  },
  {
   "cell_type": "code",
   "execution_count": 2,
   "metadata": {},
   "outputs": [],
   "source": [
    "robot_reboot = get_robot_reboot()\n",
    "env = RobotRebootEnv(robot_reboot)"
   ]
  },
  {
   "cell_type": "markdown",
   "metadata": {},
   "source": [
    "### Playing with the environment"
   ]
  },
  {
   "cell_type": "code",
   "execution_count": 3,
   "metadata": {},
   "outputs": [
    {
     "data": {
      "text/plain": [
       "array([[[0., 0., 0., 0., 0.],\n",
       "        [0., 0., 0., 0., 0.],\n",
       "        [0., 0., 0., 0., 0.],\n",
       "        ...,\n",
       "        [0., 0., 0., 0., 0.],\n",
       "        [0., 0., 0., 0., 0.],\n",
       "        [0., 0., 0., 0., 0.]],\n",
       "\n",
       "       [[0., 0., 0., 0., 0.],\n",
       "        [0., 0., 0., 0., 0.],\n",
       "        [0., 0., 0., 0., 0.],\n",
       "        ...,\n",
       "        [0., 0., 0., 0., 0.],\n",
       "        [0., 0., 0., 0., 0.],\n",
       "        [4., 0., 0., 0., 0.]],\n",
       "\n",
       "       [[0., 0., 0., 0., 0.],\n",
       "        [4., 0., 0., 0., 0.],\n",
       "        [0., 0., 0., 0., 0.],\n",
       "        ...,\n",
       "        [0., 0., 0., 0., 0.],\n",
       "        [0., 0., 0., 0., 0.],\n",
       "        [0., 0., 0., 0., 0.]],\n",
       "\n",
       "       ...,\n",
       "\n",
       "       [[4., 0., 0., 0., 0.],\n",
       "        [0., 0., 0., 0., 0.],\n",
       "        [0., 0., 0., 0., 0.],\n",
       "        ...,\n",
       "        [0., 0., 0., 0., 0.],\n",
       "        [1., 0., 0., 0., 0.],\n",
       "        [8., 0., 0., 0., 0.]],\n",
       "\n",
       "       [[0., 0., 0., 0., 0.],\n",
       "        [0., 0., 0., 0., 0.],\n",
       "        [0., 0., 0., 0., 0.],\n",
       "        ...,\n",
       "        [0., 0., 0., 0., 0.],\n",
       "        [0., 0., 0., 0., 0.],\n",
       "        [0., 0., 0., 0., 0.]],\n",
       "\n",
       "       [[0., 0., 0., 0., 0.],\n",
       "        [0., 0., 0., 0., 0.],\n",
       "        [0., 0., 0., 0., 0.],\n",
       "        ...,\n",
       "        [0., 0., 0., 0., 0.],\n",
       "        [0., 0., 0., 0., 0.],\n",
       "        [0., 0., 0., 0., 0.]]])"
      ]
     },
     "execution_count": 3,
     "metadata": {},
     "output_type": "execute_result"
    }
   ],
   "source": [
    "env.reset()"
   ]
  },
  {
   "cell_type": "code",
   "execution_count": 4,
   "metadata": {},
   "outputs": [
    {
     "data": {
      "text/plain": [
       "Discrete(16)"
      ]
     },
     "execution_count": 4,
     "metadata": {},
     "output_type": "execute_result"
    }
   ],
   "source": [
    "env.action_space"
   ]
  },
  {
   "cell_type": "code",
   "execution_count": 5,
   "metadata": {},
   "outputs": [],
   "source": [
    "obs, reward, done, info = env.step('A_N')"
   ]
  },
  {
   "cell_type": "code",
   "execution_count": 6,
   "metadata": {},
   "outputs": [
    {
     "data": {
      "text/plain": [
       "(16, 16, 5)"
      ]
     },
     "execution_count": 6,
     "metadata": {},
     "output_type": "execute_result"
    }
   ],
   "source": [
    "obs.shape"
   ]
  },
  {
   "cell_type": "code",
   "execution_count": 7,
   "metadata": {},
   "outputs": [
    {
     "data": {
      "text/plain": [
       "['A_N',\n",
       " 'A_S',\n",
       " 'A_E',\n",
       " 'A_W',\n",
       " 'G_N',\n",
       " 'G_S',\n",
       " 'G_E',\n",
       " 'G_W',\n",
       " 'B_N',\n",
       " 'B_S',\n",
       " 'B_E',\n",
       " 'B_W',\n",
       " 'R_N',\n",
       " 'R_S',\n",
       " 'R_E',\n",
       " 'R_W']"
      ]
     },
     "execution_count": 7,
     "metadata": {},
     "output_type": "execute_result"
    }
   ],
   "source": [
    "env.actions"
   ]
  },
  {
   "cell_type": "markdown",
   "metadata": {},
   "source": [
    "### Deep Q-Learning"
   ]
  },
  {
   "cell_type": "code",
   "execution_count": 24,
   "metadata": {},
   "outputs": [
    {
     "name": "stdout",
     "output_type": "stream",
     "text": [
      "input_shape = (16, 16, 5)\n",
      "n_outputs = 16\n"
     ]
    }
   ],
   "source": [
    "input_shape = env.state.shape\n",
    "n_outputs = len(env.actions)\n",
    "print(f'input_shape = {input_shape}\\nn_outputs = {n_outputs}')"
   ]
  },
  {
   "cell_type": "code",
   "execution_count": 29,
   "metadata": {},
   "outputs": [],
   "source": [
    "model = keras.models.Sequential([\n",
    "    keras.layers.Conv2D(64, 4, activation='relu', padding='same', input_shape = env.state.shape),\n",
    "    keras.layers.MaxPooling2D(2),\n",
    "    keras.layers.Conv2D(64, 4, activation='relu', padding='same', input_shape = env.state.shape),\n",
    "    keras.layers.MaxPooling2D(2),\n",
    "    keras.layers.Flatten(),\n",
    "    keras.layers.Dense(128, activation='relu'),\n",
    "#     keras.layers.Dropout(0.5),\n",
    "    keras.layers.Dense(64, activation='relu'),\n",
    "    keras.layers.Dropout(0.5),\n",
    "    keras.layers.Dense(n_outputs, activation='softmax')\n",
    "])"
   ]
  },
  {
   "cell_type": "code",
   "execution_count": 30,
   "metadata": {},
   "outputs": [
    {
     "name": "stdout",
     "output_type": "stream",
     "text": [
      "Model: \"sequential_3\"\n",
      "_________________________________________________________________\n",
      "Layer (type)                 Output Shape              Param #   \n",
      "=================================================================\n",
      "conv2d_5 (Conv2D)            (None, 16, 16, 64)        5184      \n",
      "_________________________________________________________________\n",
      "max_pooling2d_5 (MaxPooling2 (None, 8, 8, 64)          0         \n",
      "_________________________________________________________________\n",
      "conv2d_6 (Conv2D)            (None, 8, 8, 64)          65600     \n",
      "_________________________________________________________________\n",
      "max_pooling2d_6 (MaxPooling2 (None, 4, 4, 64)          0         \n",
      "_________________________________________________________________\n",
      "flatten_3 (Flatten)          (None, 1024)              0         \n",
      "_________________________________________________________________\n",
      "dense_9 (Dense)              (None, 128)               131200    \n",
      "_________________________________________________________________\n",
      "dense_10 (Dense)             (None, 64)                8256      \n",
      "_________________________________________________________________\n",
      "dropout_6 (Dropout)          (None, 64)                0         \n",
      "_________________________________________________________________\n",
      "dense_11 (Dense)             (None, 16)                1040      \n",
      "=================================================================\n",
      "Total params: 211,280\n",
      "Trainable params: 211,280\n",
      "Non-trainable params: 0\n",
      "_________________________________________________________________\n"
     ]
    }
   ],
   "source": [
    "model.summary()"
   ]
  },
  {
   "cell_type": "code",
   "execution_count": 10,
   "metadata": {},
   "outputs": [],
   "source": [
    "def epsilon_greedy_policy(state, epsilon):\n",
    "    if np.random.rand() < epsilon:\n",
    "        return np.random.randint(n_outputs)\n",
    "    else :\n",
    "        Q_values = model.predict(state[np.newaxis])\n",
    "        return np.argmax(Q_values[0])"
   ]
  },
  {
   "cell_type": "code",
   "execution_count": 11,
   "metadata": {},
   "outputs": [],
   "source": [
    "from collections import deque\n",
    "\n",
    "replay_buffer = deque(maxlen=20000)"
   ]
  },
  {
   "cell_type": "code",
   "execution_count": 12,
   "metadata": {},
   "outputs": [],
   "source": [
    "def sample_experiences(batch_size):\n",
    "    indices = np.random.randint(len(replay_buffer), size=batch_size)\n",
    "    batch = [replay_buffer[index] for index in indices]\n",
    "    states, actions, rewards, next_states, dones = [\n",
    "        np.array([experience[field_index] for experience in batch])\n",
    "        for field_index in range(5)\n",
    "    ]\n",
    "    return states, actions, rewards, next_states, dones"
   ]
  },
  {
   "cell_type": "code",
   "execution_count": 13,
   "metadata": {},
   "outputs": [],
   "source": [
    "def play_one_step(env, state, epsilon):\n",
    "    action = epsilon_greedy_policy(state, epsilon)\n",
    "    next_state, reward, done, info = env.step(env.actions[action])\n",
    "    replay_buffer.append((state, action, reward, next_state, done))\n",
    "    return next_state, reward, done, info"
   ]
  },
  {
   "cell_type": "code",
   "execution_count": 14,
   "metadata": {},
   "outputs": [],
   "source": [
    "batch_size = 64\n",
    "discount_factor = 0.95\n",
    "optimizer = keras.optimizers.Adam(lr=1e-3)\n",
    "loss_fn = keras.losses.mean_squared_error"
   ]
  },
  {
   "cell_type": "code",
   "execution_count": 15,
   "metadata": {},
   "outputs": [],
   "source": [
    "def training_step(batch_size):\n",
    "    experiences = sample_experiences(batch_size)\n",
    "    states, actions, rewards, next_states, dones = experiences\n",
    "    next_Q_values = model.predict(next_states)\n",
    "    max_next_Q_values = np.max(next_Q_values, axis=1)\n",
    "    target_Q_values = (rewards + (1-dones) * discount_factor * max_next_Q_values)\n",
    "    mask = tf.one_hot(actions, n_outputs)\n",
    "    with tf.GradientTape() as tape:\n",
    "        all_Q_values = model(states)\n",
    "        Q_values =tf.reduce_sum(all_Q_values * mask, axis=1, keepdims=True)\n",
    "        loss = tf.reduce_mean(loss_fn(target_Q_values, Q_values))\n",
    "    grads = tape.gradient(loss, model.trainable_variables)\n",
    "    optimizer.apply_gradients(zip(grads, model.trainable_variables))"
   ]
  },
  {
   "cell_type": "code",
   "execution_count": 16,
   "metadata": {},
   "outputs": [
    {
     "name": "stdout",
     "output_type": "stream",
     "text": [
      "0\n",
      "20\n",
      "40\n",
      "60\n",
      "80\n",
      "100\n",
      "120\n",
      "140\n",
      "160\n",
      "180\n",
      "200\n",
      "220\n",
      "240\n",
      "260\n",
      "280\n",
      "300\n",
      "320\n",
      "340\n",
      "360\n",
      "380\n",
      "400\n",
      "420\n",
      "440\n",
      "460\n",
      "480\n",
      "500\n",
      "520\n",
      "540\n",
      "560\n",
      "580\n",
      "600\n",
      "620\n",
      "640\n",
      "660\n",
      "680\n",
      "700\n",
      "720\n",
      "740\n",
      "760\n",
      "780\n",
      "800\n",
      "820\n",
      "840\n",
      "860\n",
      "880\n",
      "900\n",
      "920\n",
      "940\n",
      "960\n",
      "980\n"
     ]
    }
   ],
   "source": [
    "dones = list()\n",
    "rewards = list()\n",
    "for episode in range(1000):\n",
    "    obs = env.reset()\n",
    "    if episode % 20 == 0:\n",
    "        print(episode)\n",
    "    current_reward = 0\n",
    "    for step in range(600):\n",
    "        epsilon = max(1 - episode/500, 0.01)\n",
    "        obs, reward, done, info = play_one_step(env, obs, epsilon)\n",
    "        current_reward += reward\n",
    "        if done:\n",
    "            dones.append(env.robot_reboot.current_game)\n",
    "            break\n",
    "        if episode > 10:\n",
    "            training_step(batch_size)\n",
    "    rewards.append(current_reward)"
   ]
  },
  {
   "cell_type": "markdown",
   "metadata": {},
   "source": [
    "### Rewards plot"
   ]
  },
  {
   "cell_type": "code",
   "execution_count": 17,
   "metadata": {},
   "outputs": [
    {
     "data": {
      "image/png": "[encoded data removed]",
      "text/plain": [
       "<Figure size 432x288 with 1 Axes>"
      ]
     },
     "metadata": {
      "needs_background": "light"
     },
     "output_type": "display_data"
    }
   ],
   "source": [
    "import matplotlib.pyplot as plt\n",
    "plt.plot(rewards)\n",
    "plt.show()"
   ]
  },
  {
   "cell_type": "markdown",
   "metadata": {},
   "source": [
    "### Save results"
   ]
  },
  {
   "cell_type": "code",
   "execution_count": 18,
   "metadata": {},
   "outputs": [],
   "source": [
    "import json\n",
    "index = 0\n",
    "done_games = []\n",
    "for i in dones:\n",
    "    state_file = f'data/done_games/state_{index}.npy'\n",
    "    np.save(state_file, i.initial_state)\n",
    "    done_games.append({\n",
    "        \"index\": index,\n",
    "        \"state_file\": state_file,\n",
    "        \"movements\": i.movements\n",
    "    })\n",
    "    index += 1"
   ]
  },
  {
   "cell_type": "code",
   "execution_count": 19,
   "metadata": {},
   "outputs": [],
   "source": [
    "dones_obj = {\n",
    "    \"robots\": [i for i in env.robot_reboot.robots],\n",
    "    \"games\": done_games\n",
    "}\n",
    "with open('data/done_games/result.json', 'w') as file:\n",
    "    json.dump(dones_obj, file)"
   ]
  },
  {
   "cell_type": "code",
   "execution_count": 20,
   "metadata": {},
   "outputs": [
    {
     "data": {
      "text/plain": [
       "array([[0., 0., 0., 0., 0., 0., 0., 0., 0., 0., 0., 0., 0., 0., 0., 0.],\n",
       "       [0., 0., 0., 0., 0., 0., 0., 0., 0., 0., 0., 0., 0., 0., 0., 0.],\n",
       "       [0., 0., 0., 0., 0., 0., 0., 0., 0., 0., 0., 0., 0., 0., 0., 0.],\n",
       "       [0., 0., 0., 0., 0., 0., 0., 0., 0., 0., 0., 0., 0., 0., 0., 0.],\n",
       "       [0., 0., 0., 0., 0., 0., 0., 0., 0., 0., 0., 0., 0., 0., 0., 0.],\n",
       "       [0., 0., 0., 0., 0., 0., 0., 0., 0., 0., 0., 0., 0., 0., 1., 0.],\n",
       "       [0., 0., 0., 0., 0., 0., 0., 0., 0., 0., 0., 0., 0., 0., 0., 0.],\n",
       "       [0., 0., 0., 0., 0., 0., 0., 0., 0., 0., 0., 0., 0., 0., 0., 0.],\n",
       "       [0., 0., 0., 0., 0., 0., 0., 0., 0., 0., 0., 0., 0., 0., 0., 0.],\n",
       "       [0., 0., 0., 0., 0., 0., 0., 0., 0., 0., 0., 0., 0., 0., 0., 0.],\n",
       "       [0., 0., 0., 0., 0., 0., 0., 0., 0., 0., 0., 0., 0., 0., 0., 0.],\n",
       "       [0., 0., 0., 0., 0., 0., 0., 0., 0., 0., 0., 0., 0., 0., 0., 0.],\n",
       "       [0., 0., 0., 0., 0., 0., 0., 0., 0., 0., 0., 0., 0., 0., 0., 0.],\n",
       "       [0., 0., 0., 0., 0., 0., 0., 0., 0., 0., 0., 0., 0., 0., 0., 0.],\n",
       "       [0., 0., 0., 0., 0., 0., 0., 0., 0., 0., 0., 0., 0., 0., 0., 0.],\n",
       "       [0., 0., 0., 0., 0., 0., 0., 0., 0., 0., 0., 0., 0., 0., 0., 0.]])"
      ]
     },
     "execution_count": 20,
     "metadata": {},
     "output_type": "execute_result"
    }
   ],
   "source": [
    "robot_maze = dones[0].initial_state[:, : , 1]\n",
    "robot_maze"
   ]
  },
  {
   "cell_type": "code",
   "execution_count": 21,
   "metadata": {},
   "outputs": [],
   "source": [
    "x, y = np.where(robot_maze == 100)"
   ]
  },
  {
   "cell_type": "code",
   "execution_count": 22,
   "metadata": {},
   "outputs": [
    {
     "data": {
      "text/plain": [
       "array([[[0., 0., 0., 0., 0.],\n",
       "        [0., 0., 0., 0., 0.],\n",
       "        [0., 0., 0., 0., 0.],\n",
       "        ...,\n",
       "        [0., 0., 0., 0., 0.],\n",
       "        [0., 0., 0., 0., 0.],\n",
       "        [0., 0., 0., 0., 0.]],\n",
       "\n",
       "       [[0., 0., 0., 0., 0.],\n",
       "        [0., 0., 0., 0., 0.],\n",
       "        [0., 0., 0., 0., 0.],\n",
       "        ...,\n",
       "        [0., 0., 0., 0., 0.],\n",
       "        [0., 0., 0., 0., 0.],\n",
       "        [4., 1., 0., 0., 0.]],\n",
       "\n",
       "       [[0., 0., 0., 0., 0.],\n",
       "        [4., 0., 0., 0., 0.],\n",
       "        [0., 0., 0., 0., 0.],\n",
       "        ...,\n",
       "        [0., 0., 0., 0., 0.],\n",
       "        [0., 0., 0., 0., 0.],\n",
       "        [0., 0., 0., 0., 0.]],\n",
       "\n",
       "       ...,\n",
       "\n",
       "       [[4., 0., 0., 0., 0.],\n",
       "        [0., 0., 0., 0., 0.],\n",
       "        [0., 0., 0., 0., 0.],\n",
       "        ...,\n",
       "        [0., 0., 0., 0., 0.],\n",
       "        [1., 0., 0., 0., 0.],\n",
       "        [8., 0., 0., 0., 0.]],\n",
       "\n",
       "       [[0., 0., 0., 0., 0.],\n",
       "        [0., 0., 0., 0., 0.],\n",
       "        [0., 0., 0., 0., 0.],\n",
       "        ...,\n",
       "        [0., 0., 0., 0., 0.],\n",
       "        [0., 0., 0., 0., 0.],\n",
       "        [0., 0., 0., 0., 0.]],\n",
       "\n",
       "       [[0., 0., 0., 0., 0.],\n",
       "        [0., 0., 0., 0., 0.],\n",
       "        [0., 0., 0., 0., 0.],\n",
       "        ...,\n",
       "        [0., 0., 0., 0., 0.],\n",
       "        [0., 0., 0., 0., 0.],\n",
       "        [0., 0., 0., 0., 1.]]])"
      ]
     },
     "execution_count": 22,
     "metadata": {},
     "output_type": "execute_result"
    }
   ],
   "source": [
    "env.robot_reboot.state"
   ]
  },
  {
   "cell_type": "code",
   "execution_count": 23,
   "metadata": {},
   "outputs": [
    {
     "data": {
      "text/plain": [
       "[('R', 'N'),\n",
       " ('R', 'N'),\n",
       " ('R', 'S'),\n",
       " ('R', 'N'),\n",
       " ('A', 'S'),\n",
       " ('A', 'N'),\n",
       " ('A', 'N'),\n",
       " ('G', 'W'),\n",
       " ('G', 'E'),\n",
       " ('R', 'W'),\n",
       " ('R', 'N'),\n",
       " ('B', 'N'),\n",
       " ('B', 'E'),\n",
       " ('B', 'E'),\n",
       " ('G', 'E'),\n",
       " ('G', 'S'),\n",
       " ('B', 'N'),\n",
       " ('B', 'W'),\n",
       " ('G', 'E'),\n",
       " ('B', 'W'),\n",
       " ('A', 'N'),\n",
       " ('G', 'E'),\n",
       " ('B', 'E'),\n",
       " ('A', 'S'),\n",
       " ('B', 'S'),\n",
       " ('G', 'E'),\n",
       " ('R', 'S'),\n",
       " ('A', 'N'),\n",
       " ('G', 'N'),\n",
       " ('G', 'E'),\n",
       " ('A', 'N'),\n",
       " ('R', 'W'),\n",
       " ('G', 'W'),\n",
       " ('B', 'E'),\n",
       " ('B', 'W'),\n",
       " ('A', 'N'),\n",
       " ('B', 'S'),\n",
       " ('R', 'N'),\n",
       " ('A', 'W'),\n",
       " ('G', 'W'),\n",
       " ('A', 'N'),\n",
       " ('B', 'N'),\n",
       " ('B', 'W'),\n",
       " ('B', 'S'),\n",
       " ('B', 'W'),\n",
       " ('R', 'W'),\n",
       " ('R', 'S'),\n",
       " ('G', 'N'),\n",
       " ('G', 'E'),\n",
       " ('R', 'S'),\n",
       " ('R', 'N'),\n",
       " ('A', 'E'),\n",
       " ('B', 'E'),\n",
       " ('G', 'W'),\n",
       " ('A', 'E'),\n",
       " ('R', 'S'),\n",
       " ('A', 'N'),\n",
       " ('R', 'E'),\n",
       " ('B', 'N'),\n",
       " ('B', 'S'),\n",
       " ('B', 'E'),\n",
       " ('A', 'W'),\n",
       " ('B', 'N'),\n",
       " ('B', 'E'),\n",
       " ('R', 'W'),\n",
       " ('B', 'W'),\n",
       " ('R', 'N'),\n",
       " ('R', 'E'),\n",
       " ('R', 'W'),\n",
       " ('A', 'S'),\n",
       " ('R', 'N'),\n",
       " ('R', 'E'),\n",
       " ('G', 'W'),\n",
       " ('R', 'N'),\n",
       " ('B', 'S'),\n",
       " ('B', 'W'),\n",
       " ('G', 'S'),\n",
       " ('R', 'W'),\n",
       " ('G', 'S'),\n",
       " ('R', 'N'),\n",
       " ('B', 'S'),\n",
       " ('G', 'S'),\n",
       " ('A', 'W'),\n",
       " ('A', 'S'),\n",
       " ('R', 'N'),\n",
       " ('B', 'E'),\n",
       " ('A', 'W'),\n",
       " ('A', 'N'),\n",
       " ('A', 'E'),\n",
       " ('R', 'W'),\n",
       " ('R', 'N'),\n",
       " ('A', 'N'),\n",
       " ('B', 'W'),\n",
       " ('R', 'W'),\n",
       " ('R', 'E'),\n",
       " ('A', 'W'),\n",
       " ('A', 'N'),\n",
       " ('G', 'N'),\n",
       " ('A', 'S'),\n",
       " ('G', 'S'),\n",
       " ('G', 'W'),\n",
       " ('A', 'E'),\n",
       " ('R', 'N'),\n",
       " ('A', 'W'),\n",
       " ('B', 'S'),\n",
       " ('B', 'N'),\n",
       " ('A', 'W'),\n",
       " ('R', 'E'),\n",
       " ('G', 'S'),\n",
       " ('A', 'N'),\n",
       " ('R', 'W'),\n",
       " ('A', 'N'),\n",
       " ('A', 'N'),\n",
       " ('G', 'E'),\n",
       " ('R', 'N'),\n",
       " ('R', 'E'),\n",
       " ('G', 'N'),\n",
       " ('A', 'S'),\n",
       " ('B', 'N'),\n",
       " ('G', 'N'),\n",
       " ('G', 'E'),\n",
       " ('R', 'E'),\n",
       " ('R', 'N'),\n",
       " ('B', 'W'),\n",
       " ('R', 'W'),\n",
       " ('A', 'E'),\n",
       " ('G', 'E'),\n",
       " ('G', 'N'),\n",
       " ('R', 'E'),\n",
       " ('G', 'E'),\n",
       " ('R', 'W'),\n",
       " ('A', 'S'),\n",
       " ('A', 'S'),\n",
       " ('R', 'N'),\n",
       " ('R', 'E'),\n",
       " ('R', 'E'),\n",
       " ('R', 'N'),\n",
       " ('B', 'E'),\n",
       " ('G', 'N'),\n",
       " ('G', 'E'),\n",
       " ('R', 'S'),\n",
       " ('B', 'N'),\n",
       " ('G', 'W'),\n",
       " ('G', 'W'),\n",
       " ('A', 'E'),\n",
       " ('B', 'S'),\n",
       " ('B', 'S'),\n",
       " ('A', 'W'),\n",
       " ('A', 'S'),\n",
       " ('R', 'E'),\n",
       " ('A', 'E'),\n",
       " ('G', 'W'),\n",
       " ('A', 'W'),\n",
       " ('B', 'N'),\n",
       " ('A', 'N'),\n",
       " ('G', 'E'),\n",
       " ('G', 'E'),\n",
       " ('R', 'W'),\n",
       " ('B', 'E'),\n",
       " ('B', 'E'),\n",
       " ('R', 'N'),\n",
       " ('B', 'W'),\n",
       " ('G', 'S'),\n",
       " ('A', 'E'),\n",
       " ('A', 'N'),\n",
       " ('B', 'E'),\n",
       " ('B', 'W'),\n",
       " ('R', 'E'),\n",
       " ('G', 'E'),\n",
       " ('G', 'N'),\n",
       " ('A', 'W'),\n",
       " ('G', 'E'),\n",
       " ('B', 'S'),\n",
       " ('G', 'N'),\n",
       " ('A', 'N'),\n",
       " ('G', 'E'),\n",
       " ('R', 'S'),\n",
       " ('R', 'S'),\n",
       " ('R', 'S'),\n",
       " ('R', 'S'),\n",
       " ('A', 'W'),\n",
       " ('A', 'N'),\n",
       " ('G', 'N'),\n",
       " ('G', 'N'),\n",
       " ('A', 'S'),\n",
       " ('B', 'N'),\n",
       " ('B', 'S'),\n",
       " ('G', 'W'),\n",
       " ('R', 'N'),\n",
       " ('A', 'W'),\n",
       " ('G', 'E'),\n",
       " ('A', 'W'),\n",
       " ('G', 'W'),\n",
       " ('B', 'N'),\n",
       " ('A', 'W'),\n",
       " ('A', 'E'),\n",
       " ('G', 'S'),\n",
       " ('A', 'S'),\n",
       " ('R', 'E'),\n",
       " ('R', 'N'),\n",
       " ('B', 'S'),\n",
       " ('G', 'N'),\n",
       " ('B', 'N'),\n",
       " ('G', 'S'),\n",
       " ('G', 'W'),\n",
       " ('R', 'E'),\n",
       " ('G', 'E'),\n",
       " ('B', 'N'),\n",
       " ('A', 'N'),\n",
       " ('G', 'N'),\n",
       " ('R', 'E'),\n",
       " ('R', 'N'),\n",
       " ('A', 'W'),\n",
       " ('R', 'E'),\n",
       " ('G', 'N'),\n",
       " ('A', 'S'),\n",
       " ('R', 'E'),\n",
       " ('A', 'S'),\n",
       " ('A', 'W'),\n",
       " ('R', 'W'),\n",
       " ('B', 'S'),\n",
       " ('A', 'N'),\n",
       " ('A', 'S'),\n",
       " ('R', 'E'),\n",
       " ('R', 'S'),\n",
       " ('G', 'S'),\n",
       " ('A', 'S'),\n",
       " ('G', 'W'),\n",
       " ('R', 'S'),\n",
       " ('A', 'W'),\n",
       " ('B', 'W'),\n",
       " ('R', 'W'),\n",
       " ('B', 'S'),\n",
       " ('R', 'S'),\n",
       " ('G', 'N'),\n",
       " ('B', 'N'),\n",
       " ('R', 'W'),\n",
       " ('R', 'E'),\n",
       " ('B', 'E'),\n",
       " ('B', 'N'),\n",
       " ('A', 'E'),\n",
       " ('G', 'S'),\n",
       " ('A', 'W'),\n",
       " ('A', 'E'),\n",
       " ('R', 'N'),\n",
       " ('A', 'E'),\n",
       " ('R', 'S'),\n",
       " ('B', 'W'),\n",
       " ('R', 'E'),\n",
       " ('G', 'W'),\n",
       " ('G', 'W'),\n",
       " ('A', 'E'),\n",
       " ('B', 'N'),\n",
       " ('A', 'E'),\n",
       " ('G', 'E'),\n",
       " ('G', 'E'),\n",
       " ('R', 'N'),\n",
       " ('A', 'W'),\n",
       " ('B', 'W'),\n",
       " ('G', 'E'),\n",
       " ('G', 'E'),\n",
       " ('R', 'N'),\n",
       " ('A', 'S'),\n",
       " ('G', 'N'),\n",
       " ('A', 'N'),\n",
       " ('B', 'E'),\n",
       " ('A', 'E'),\n",
       " ('B', 'E'),\n",
       " ('B', 'S'),\n",
       " ('B', 'E'),\n",
       " ('A', 'E'),\n",
       " ('G', 'W'),\n",
       " ('G', 'W'),\n",
       " ('R', 'N'),\n",
       " ('B', 'N'),\n",
       " ('B', 'E'),\n",
       " ('A', 'W'),\n",
       " ('G', 'N'),\n",
       " ('B', 'S'),\n",
       " ('B', 'S'),\n",
       " ('G', 'W'),\n",
       " ('B', 'N'),\n",
       " ('G', 'W'),\n",
       " ('A', 'N'),\n",
       " ('A', 'W'),\n",
       " ('G', 'N'),\n",
       " ('R', 'S'),\n",
       " ('G', 'W'),\n",
       " ('A', 'S'),\n",
       " ('B', 'N'),\n",
       " ('G', 'E'),\n",
       " ('B', 'W'),\n",
       " ('G', 'W'),\n",
       " ('B', 'S'),\n",
       " ('B', 'W'),\n",
       " ('G', 'W'),\n",
       " ('R', 'W'),\n",
       " ('G', 'S'),\n",
       " ('G', 'N'),\n",
       " ('B', 'E'),\n",
       " ('A', 'S'),\n",
       " ('G', 'W'),\n",
       " ('R', 'N')]"
      ]
     },
     "execution_count": 23,
     "metadata": {},
     "output_type": "execute_result"
    }
   ],
   "source": [
    "dones[0].movements"
   ]
  },
  {
   "cell_type": "code",
   "execution_count": null,
   "metadata": {},
   "outputs": [],
   "source": []
  }
 ],
 "metadata": {
  "kernelspec": {
   "display_name": "Python 3",
   "language": "python",
   "name": "python3"
  },
  "language_info": {
   "codemirror_mode": {
    "name": "ipython",
    "version": 3
   },
   "file_extension": ".py",
   "mimetype": "text/x-python",
   "name": "python",
   "nbconvert_exporter": "python",
   "pygments_lexer": "ipython3",
   "version": "3.7.7"
  }
 },
 "nbformat": 4,
 "nbformat_minor": 4
}
